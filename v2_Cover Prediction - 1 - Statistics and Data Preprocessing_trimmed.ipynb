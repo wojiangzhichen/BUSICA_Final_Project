{
 "cells": [
  {
   "cell_type": "markdown",
   "metadata": {
    "collapsed": true
   },
   "source": [
    "## Knowing the dataset"
   ]
  },
  {
   "cell_type": "code",
   "execution_count": 1,
   "metadata": {
    "collapsed": true
   },
   "outputs": [],
   "source": [
    "import pandas as pd\n",
    "import matplotlib.pyplot as plt\n",
    "import numpy as np"
   ]
  },
  {
   "cell_type": "code",
   "execution_count": 2,
   "metadata": {
    "collapsed": false
   },
   "outputs": [],
   "source": [
    "big_bills = pd.read_csv('big_bills.csv')\n",
    "restaurant_portfolio = pd.read_csv('restaurant_portfolio.csv')"
   ]
  },
  {
   "cell_type": "code",
   "execution_count": 3,
   "metadata": {
    "collapsed": false
   },
   "outputs": [
    {
     "name": "stdout",
     "output_type": "stream",
     "text": [
      "('Number of Transactions:', 5152404)\n"
     ]
    }
   ],
   "source": [
    "# total number of data\n",
    "print(\"Number of Transactions:\", len(big_bills.total_covers))"
   ]
  },
  {
   "cell_type": "code",
   "execution_count": 4,
   "metadata": {
    "collapsed": false
   },
   "outputs": [
    {
     "data": {
      "text/plain": [
       "count    5.152404e+06\n",
       "mean     2.241724e+00\n",
       "std      1.851398e+00\n",
       "min     -4.200000e+01\n",
       "25%      2.000000e+00\n",
       "50%      2.000000e+00\n",
       "75%      3.000000e+00\n",
       "max      9.990000e+02\n",
       "Name: total_covers, dtype: float64"
      ]
     },
     "execution_count": 4,
     "metadata": {},
     "output_type": "execute_result"
    }
   ],
   "source": [
    "big_bills.total_covers.describe()"
   ]
  },
  {
   "cell_type": "code",
   "execution_count": 5,
   "metadata": {
    "collapsed": false
   },
   "outputs": [
    {
     "data": {
      "text/plain": [
       " 2      2664767\n",
       " 0       686332\n",
       " 3       593012\n",
       " 1       438699\n",
       " 4       430710\n",
       " 5       138641\n",
       " 6        84673\n",
       " 7        38721\n",
       " 8        26245\n",
       " 9        14816\n",
       " 10       10575\n",
       " 11        6520\n",
       " 12        5020\n",
       " 13        3207\n",
       " 14        2534\n",
       " 15        1889\n",
       " 16        1396\n",
       " 17         964\n",
       " 18         731\n",
       " 20         546\n",
       " 19         542\n",
       " 21         311\n",
       " 22         257\n",
       " 23         215\n",
       " 24         150\n",
       " 25         147\n",
       "-1          135\n",
       " 26          89\n",
       " 27          71\n",
       " 28          65\n",
       "         ...   \n",
       " 43           4\n",
       " 42           4\n",
       " 60           3\n",
       " 50           3\n",
       "-5            3\n",
       " 52           3\n",
       " 51           3\n",
       " 500          2\n",
       " 37           2\n",
       " 54           2\n",
       " 53           2\n",
       " 55           2\n",
       " 57           2\n",
       " 61           1\n",
       " 59           1\n",
       " 48           1\n",
       "-42           1\n",
       " 999          1\n",
       " 666          1\n",
       " 56           1\n",
       " 150          1\n",
       " 102          1\n",
       " 58           1\n",
       " 84           1\n",
       " 81           1\n",
       " 70           1\n",
       " 69           1\n",
       " 65           1\n",
       " 63           1\n",
       " 62           1\n",
       "Name: total_covers, dtype: int64"
      ]
     },
     "execution_count": 5,
     "metadata": {},
     "output_type": "execute_result"
    }
   ],
   "source": [
    "big_bills.total_covers.value_counts()"
   ]
  },
  {
   "cell_type": "markdown",
   "metadata": {},
   "source": [
    "It must be noticed that in this dataset, there is surely some data that has problems.\n",
    "1. Covers cannot be negative;\n",
    "2. Large cover numbers are really not possible, for example 999;\n",
    "3. Covers that have few transaction records are not valueble, for example, a cover number of 26 has only 89 records."
   ]
  },
  {
   "cell_type": "code",
   "execution_count": 6,
   "metadata": {
    "collapsed": false
   },
   "outputs": [
    {
     "data": {
      "text/plain": [
       "1930709"
      ]
     },
     "execution_count": 6,
     "metadata": {},
     "output_type": "execute_result"
    }
   ],
   "source": [
    "big_bills.total_covers.idxmax()"
   ]
  },
  {
   "cell_type": "code",
   "execution_count": 7,
   "metadata": {
    "collapsed": false
   },
   "outputs": [
    {
     "data": {
      "text/plain": [
       "Unnamed: 0                           1930709\n",
       "branch_number                           3298\n",
       "concept_number                             1\n",
       "revenue_centre_number                      1\n",
       "brand                                 Prezzo\n",
       "sale_date                         2016-10-31\n",
       "guest_check_number                        62\n",
       "check_datetimestart      2016-10-31 21:46:09\n",
       "check_datetimestop       2016-10-31 21:58:17\n",
       "total_covers                             999\n",
       "total_gross_sales                      12.97\n",
       "total_net_sales                       10.808\n",
       "total_service_charge                     NaN\n",
       "total_tip                                  0\n",
       "total_discount                           NaN\n",
       "total_cost                            -12.97\n",
       "total_stock_cost                       1.173\n",
       "total_tesco_rebate                       NaN\n",
       "Name: 1930709, dtype: object"
      ]
     },
     "execution_count": 7,
     "metadata": {},
     "output_type": "execute_result"
    }
   ],
   "source": [
    "# Inspect the cover number of maximum\n",
    "big_bills.iloc[1930709]"
   ]
  },
  {
   "cell_type": "code",
   "execution_count": 8,
   "metadata": {
    "collapsed": true
   },
   "outputs": [],
   "source": [
    "import seaborn as sns"
   ]
  },
  {
   "cell_type": "code",
   "execution_count": 12,
   "metadata": {
    "collapsed": false
   },
   "outputs": [
    {
     "data": {
      "image/png": "[encoded data removed]",
      "text/plain": [
       "<matplotlib.figure.Figure at 0x7f05130a5ad0>"
      ]
     },
     "metadata": {},
     "output_type": "display_data"
    }
   ],
   "source": [
    "n_total, bins, patch = plt.hist(big_bills.total_covers, bins=np.arange(0,999,1),alpha=0.7,align=\"left\",normed=False,histtype=\"bar\")\n",
    "plt.xticks(np.arange(0,999,1))\n",
    "plt.ylim(0, 1000000)\n",
    "plt.title(\"Covers' Distribution (Origininal Dataset)\")\n",
    "plt.xlabel('Covers')\n",
    "plt.ylabel('Number of Transactions at this Covers')\n",
    "plt.show()"
   ]
  },
  {
   "cell_type": "markdown",
   "metadata": {},
   "source": [
    "### Select the data I think is useful\n",
    "At this stage, I think limit the number of covers into 0-25 is sensible."
   ]
  },
  {
   "cell_type": "code",
   "execution_count": 13,
   "metadata": {
    "collapsed": false
   },
   "outputs": [],
   "source": [
    "big_bills_selected = big_bills[(big_bills.total_covers>=0) & (big_bills.total_covers<26)]"
   ]
  },
  {
   "cell_type": "code",
   "execution_count": 14,
   "metadata": {
    "collapsed": false
   },
   "outputs": [
    {
     "data": {
      "text/html": [
       "<div>\n",
       "<table border=\"1\" class=\"dataframe\">\n",
       "  <thead>\n",
       "    <tr style=\"text-align: right;\">\n",
       "      <th></th>\n",
       "      <th>Unnamed: 0</th>\n",
       "      <th>branch_number</th>\n",
       "      <th>concept_number</th>\n",
       "      <th>revenue_centre_number</th>\n",
       "      <th>brand</th>\n",
       "      <th>sale_date</th>\n",
       "      <th>guest_check_number</th>\n",
       "      <th>check_datetimestart</th>\n",
       "      <th>check_datetimestop</th>\n",
       "      <th>total_covers</th>\n",
       "      <th>total_gross_sales</th>\n",
       "      <th>total_net_sales</th>\n",
       "      <th>total_service_charge</th>\n",
       "      <th>total_tip</th>\n",
       "      <th>total_discount</th>\n",
       "      <th>total_cost</th>\n",
       "      <th>total_stock_cost</th>\n",
       "      <th>total_tesco_rebate</th>\n",
       "    </tr>\n",
       "  </thead>\n",
       "  <tbody>\n",
       "    <tr>\n",
       "      <th>0</th>\n",
       "      <td>0</td>\n",
       "      <td>3338</td>\n",
       "      <td>1</td>\n",
       "      <td>2</td>\n",
       "      <td>Prezzo</td>\n",
       "      <td>2016-06-19</td>\n",
       "      <td>25</td>\n",
       "      <td>2016-06-19 13:57:47</td>\n",
       "      <td>2016-06-19 15:59:55</td>\n",
       "      <td>0</td>\n",
       "      <td>18.92</td>\n",
       "      <td>15.766</td>\n",
       "      <td>13.67</td>\n",
       "      <td>0.0</td>\n",
       "      <td>-90.0</td>\n",
       "      <td>57.41</td>\n",
       "      <td>1.149</td>\n",
       "      <td>45.25</td>\n",
       "    </tr>\n",
       "    <tr>\n",
       "      <th>1</th>\n",
       "      <td>1</td>\n",
       "      <td>2001</td>\n",
       "      <td>11</td>\n",
       "      <td>1</td>\n",
       "      <td>Prezzo</td>\n",
       "      <td>2016-06-19</td>\n",
       "      <td>7</td>\n",
       "      <td>2016-06-19 12:39:55</td>\n",
       "      <td>2016-06-19 22:18:13</td>\n",
       "      <td>0</td>\n",
       "      <td>0.00</td>\n",
       "      <td>0.000</td>\n",
       "      <td>NaN</td>\n",
       "      <td>NaN</td>\n",
       "      <td>NaN</td>\n",
       "      <td>0.00</td>\n",
       "      <td>NaN</td>\n",
       "      <td>NaN</td>\n",
       "    </tr>\n",
       "    <tr>\n",
       "      <th>2</th>\n",
       "      <td>2</td>\n",
       "      <td>3204</td>\n",
       "      <td>1</td>\n",
       "      <td>1</td>\n",
       "      <td>Prezzo</td>\n",
       "      <td>2016-06-19</td>\n",
       "      <td>10</td>\n",
       "      <td>2016-06-19 12:44:17</td>\n",
       "      <td>2016-06-19 16:27:22</td>\n",
       "      <td>0</td>\n",
       "      <td>0.00</td>\n",
       "      <td>0.000</td>\n",
       "      <td>NaN</td>\n",
       "      <td>NaN</td>\n",
       "      <td>NaN</td>\n",
       "      <td>0.00</td>\n",
       "      <td>1.127</td>\n",
       "      <td>NaN</td>\n",
       "    </tr>\n",
       "    <tr>\n",
       "      <th>3</th>\n",
       "      <td>3</td>\n",
       "      <td>2001</td>\n",
       "      <td>11</td>\n",
       "      <td>1</td>\n",
       "      <td>Prezzo</td>\n",
       "      <td>2016-06-19</td>\n",
       "      <td>50</td>\n",
       "      <td>2016-06-19 15:33:50</td>\n",
       "      <td>2016-06-19 16:44:04</td>\n",
       "      <td>0</td>\n",
       "      <td>0.00</td>\n",
       "      <td>0.000</td>\n",
       "      <td>NaN</td>\n",
       "      <td>NaN</td>\n",
       "      <td>NaN</td>\n",
       "      <td>0.00</td>\n",
       "      <td>NaN</td>\n",
       "      <td>NaN</td>\n",
       "    </tr>\n",
       "    <tr>\n",
       "      <th>4</th>\n",
       "      <td>4</td>\n",
       "      <td>3204</td>\n",
       "      <td>1</td>\n",
       "      <td>1</td>\n",
       "      <td>Prezzo</td>\n",
       "      <td>2016-06-19</td>\n",
       "      <td>20</td>\n",
       "      <td>2016-06-19 13:08:28</td>\n",
       "      <td>2016-06-19 13:54:32</td>\n",
       "      <td>0</td>\n",
       "      <td>0.00</td>\n",
       "      <td>0.000</td>\n",
       "      <td>NaN</td>\n",
       "      <td>NaN</td>\n",
       "      <td>NaN</td>\n",
       "      <td>0.00</td>\n",
       "      <td>3.488</td>\n",
       "      <td>NaN</td>\n",
       "    </tr>\n",
       "  </tbody>\n",
       "</table>\n",
       "</div>"
      ],
      "text/plain": [
       "   Unnamed: 0  branch_number  concept_number  revenue_centre_number   brand  \\\n",
       "0           0           3338               1                      2  Prezzo   \n",
       "1           1           2001              11                      1  Prezzo   \n",
       "2           2           3204               1                      1  Prezzo   \n",
       "3           3           2001              11                      1  Prezzo   \n",
       "4           4           3204               1                      1  Prezzo   \n",
       "\n",
       "    sale_date  guest_check_number  check_datetimestart   check_datetimestop  \\\n",
       "0  2016-06-19                  25  2016-06-19 13:57:47  2016-06-19 15:59:55   \n",
       "1  2016-06-19                   7  2016-06-19 12:39:55  2016-06-19 22:18:13   \n",
       "2  2016-06-19                  10  2016-06-19 12:44:17  2016-06-19 16:27:22   \n",
       "3  2016-06-19                  50  2016-06-19 15:33:50  2016-06-19 16:44:04   \n",
       "4  2016-06-19                  20  2016-06-19 13:08:28  2016-06-19 13:54:32   \n",
       "\n",
       "   total_covers  total_gross_sales  total_net_sales  total_service_charge  \\\n",
       "0             0              18.92           15.766                 13.67   \n",
       "1             0               0.00            0.000                   NaN   \n",
       "2             0               0.00            0.000                   NaN   \n",
       "3             0               0.00            0.000                   NaN   \n",
       "4             0               0.00            0.000                   NaN   \n",
       "\n",
       "   total_tip  total_discount  total_cost  total_stock_cost  total_tesco_rebate  \n",
       "0        0.0           -90.0       57.41             1.149               45.25  \n",
       "1        NaN             NaN        0.00               NaN                 NaN  \n",
       "2        NaN             NaN        0.00             1.127                 NaN  \n",
       "3        NaN             NaN        0.00               NaN                 NaN  \n",
       "4        NaN             NaN        0.00             3.488                 NaN  "
      ]
     },
     "execution_count": 14,
     "metadata": {},
     "output_type": "execute_result"
    }
   ],
   "source": [
    "big_bills_selected.head()"
   ]
  },
  {
   "cell_type": "code",
   "execution_count": 15,
   "metadata": {
    "collapsed": false
   },
   "outputs": [
    {
     "name": "stdout",
     "output_type": "stream",
     "text": [
      "('Number of Transactions:', 5151620)\n"
     ]
    }
   ],
   "source": [
    "# total number of selected data\n",
    "print(\"Number of Transactions:\", len(big_bills_selected.total_covers))"
   ]
  },
  {
   "cell_type": "markdown",
   "metadata": {},
   "source": [
    "Less than 1000 records are eliminated. And the way of selecting data is sensible."
   ]
  },
  {
   "cell_type": "code",
   "execution_count": 16,
   "metadata": {
    "collapsed": false
   },
   "outputs": [
    {
     "data": {
      "text/plain": [
       "count    5.151620e+06\n",
       "mean     2.237436e+00\n",
       "std      1.689301e+00\n",
       "min      0.000000e+00\n",
       "25%      2.000000e+00\n",
       "50%      2.000000e+00\n",
       "75%      3.000000e+00\n",
       "max      2.500000e+01\n",
       "Name: total_covers, dtype: float64"
      ]
     },
     "execution_count": 16,
     "metadata": {},
     "output_type": "execute_result"
    }
   ],
   "source": [
    "big_bills_selected.total_covers.describe()"
   ]
  },
  {
   "cell_type": "code",
   "execution_count": 17,
   "metadata": {
    "collapsed": false
   },
   "outputs": [
    {
     "data": {
      "text/plain": [
       "2     2664767\n",
       "0      686332\n",
       "3      593012\n",
       "1      438699\n",
       "4      430710\n",
       "5      138641\n",
       "6       84673\n",
       "7       38721\n",
       "8       26245\n",
       "9       14816\n",
       "10      10575\n",
       "11       6520\n",
       "12       5020\n",
       "13       3207\n",
       "14       2534\n",
       "15       1889\n",
       "16       1396\n",
       "17        964\n",
       "18        731\n",
       "20        546\n",
       "19        542\n",
       "21        311\n",
       "22        257\n",
       "23        215\n",
       "24        150\n",
       "25        147\n",
       "Name: total_covers, dtype: int64"
      ]
     },
     "execution_count": 17,
     "metadata": {},
     "output_type": "execute_result"
    }
   ],
   "source": [
    "big_bills_selected.total_covers.value_counts()"
   ]
  },
  {
   "cell_type": "code",
   "execution_count": 18,
   "metadata": {
    "collapsed": false
   },
   "outputs": [
    {
     "data": {
      "image/png": "[encoded data removed]",
      "text/plain": [
       "<matplotlib.figure.Figure at 0x7f05111f66d0>"
      ]
     },
     "metadata": {},
     "output_type": "display_data"
    }
   ],
   "source": [
    "n_total, bins, patch = plt.hist(big_bills.total_covers, bins=np.arange(0,26,1),alpha=0.7,align=\"left\",normed=False,histtype=\"bar\")\n",
    "plt.xticks(np.arange(0,26,1))\n",
    "plt.title(\"Covers' Distribution\")\n",
    "plt.xlabel('Covers')\n",
    "plt.ylabel('Number of Transactions at this Covers')\n",
    "plt.show()"
   ]
  },
  {
   "cell_type": "markdown",
   "metadata": {},
   "source": [
    "### A bit of statistics"
   ]
  },
  {
   "cell_type": "code",
   "execution_count": 19,
   "metadata": {
    "collapsed": true
   },
   "outputs": [],
   "source": [
    "import scipy"
   ]
  },
  {
   "cell_type": "code",
   "execution_count": 20,
   "metadata": {
    "collapsed": false
   },
   "outputs": [
    {
     "data": {
      "text/html": [
       "<div>\n",
       "<table border=\"1\" class=\"dataframe\">\n",
       "  <thead>\n",
       "    <tr style=\"text-align: right;\">\n",
       "      <th></th>\n",
       "      <th>Statistics of covers (original)</th>\n",
       "    </tr>\n",
       "  </thead>\n",
       "  <tbody>\n",
       "    <tr>\n",
       "      <th>nobs</th>\n",
       "      <td>5152404</td>\n",
       "    </tr>\n",
       "    <tr>\n",
       "      <th>min-max</th>\n",
       "      <td>(-42, 999)</td>\n",
       "    </tr>\n",
       "    <tr>\n",
       "      <th>mean</th>\n",
       "      <td>2.24172</td>\n",
       "    </tr>\n",
       "    <tr>\n",
       "      <th>variance</th>\n",
       "      <td>3.42767</td>\n",
       "    </tr>\n",
       "    <tr>\n",
       "      <th>skewness</th>\n",
       "      <td>51.8843</td>\n",
       "    </tr>\n",
       "    <tr>\n",
       "      <th>kurtosis</th>\n",
       "      <td>21813.8</td>\n",
       "    </tr>\n",
       "  </tbody>\n",
       "</table>\n",
       "</div>"
      ],
      "text/plain": [
       "         Statistics of covers (original)\n",
       "nobs                             5152404\n",
       "min-max                       (-42, 999)\n",
       "mean                             2.24172\n",
       "variance                         3.42767\n",
       "skewness                         51.8843\n",
       "kurtosis                         21813.8"
      ]
     },
     "execution_count": 20,
     "metadata": {},
     "output_type": "execute_result"
    }
   ],
   "source": [
    "stat_covers_selected=pd.DataFrame({'Statistics of covers (original)':list(scipy.stats.describe(big_bills.total_covers))\n",
    "                                   },index=[\"nobs\",\"min-max\",\"mean\",\"variance\",\"skewness\",\"kurtosis\"])\n",
    "stat_covers_selected"
   ]
  },
  {
   "cell_type": "code",
   "execution_count": 21,
   "metadata": {
    "collapsed": false
   },
   "outputs": [
    {
     "data": {
      "text/html": [
       "<div>\n",
       "<table border=\"1\" class=\"dataframe\">\n",
       "  <thead>\n",
       "    <tr style=\"text-align: right;\">\n",
       "      <th></th>\n",
       "      <th>Statistics of covers</th>\n",
       "    </tr>\n",
       "  </thead>\n",
       "  <tbody>\n",
       "    <tr>\n",
       "      <th>nobs</th>\n",
       "      <td>5151620</td>\n",
       "    </tr>\n",
       "    <tr>\n",
       "      <th>min-max</th>\n",
       "      <td>(0, 25)</td>\n",
       "    </tr>\n",
       "    <tr>\n",
       "      <th>mean</th>\n",
       "      <td>2.23744</td>\n",
       "    </tr>\n",
       "    <tr>\n",
       "      <th>variance</th>\n",
       "      <td>2.85374</td>\n",
       "    </tr>\n",
       "    <tr>\n",
       "      <th>skewness</th>\n",
       "      <td>2.64941</td>\n",
       "    </tr>\n",
       "    <tr>\n",
       "      <th>kurtosis</th>\n",
       "      <td>16.5578</td>\n",
       "    </tr>\n",
       "  </tbody>\n",
       "</table>\n",
       "</div>"
      ],
      "text/plain": [
       "         Statistics of covers\n",
       "nobs                  5151620\n",
       "min-max               (0, 25)\n",
       "mean                  2.23744\n",
       "variance              2.85374\n",
       "skewness              2.64941\n",
       "kurtosis              16.5578"
      ]
     },
     "execution_count": 21,
     "metadata": {},
     "output_type": "execute_result"
    }
   ],
   "source": [
    "stat_covers_selected=pd.DataFrame({'Statistics of covers':list(scipy.stats.describe(big_bills_selected.total_covers))\n",
    "                                   },index=[\"nobs\",\"min-max\",\"mean\",\"variance\",\"skewness\",\"kurtosis\"])\n",
    "stat_covers_selected"
   ]
  },
  {
   "cell_type": "markdown",
   "metadata": {
    "collapsed": true
   },
   "source": [
    "Binomial Distribution"
   ]
  },
  {
   "cell_type": "markdown",
   "metadata": {},
   "source": [
    "By observing the characteristics, the probability distribution is very close to Binomial Distribution.\n",
    "Binomial Distribution refers to a repeated test for N experiments, for each test, the outcome is either 'yes' or 'no', and there is need to know for many times the answer is 'yes'.\n",
    "For this restaurant chain, we can make sure that every restaurant in this chain is a branch of Prezzo, and very roughly we can assume that food in every restaurant is the same, and let each cover (main dish) to be a single event (although it is not the same with the other item). And see how many covers are selected."
   ]
  },
  {
   "cell_type": "code",
   "execution_count": 22,
   "metadata": {
    "collapsed": false
   },
   "outputs": [
    {
     "data": {
      "image/png": "[encoded data removed]",
      "text/plain": [
       "<matplotlib.figure.Figure at 0x7f051289f810>"
      ]
     },
     "metadata": {},
     "output_type": "display_data"
    }
   ],
   "source": [
    "def plot_binomial(n,p):\n",
    "    '''Plot probability function of binomial distribution'''\n",
    "    sample = np.random.binomial(n,p,size=5000000)  # Produce 5000000 random numbers that fits the distribution\n",
    "    bins = np.arange(n+2) \n",
    "    plt.hist(sample, bins=bins, align='left', normed=True, rwidth=0.1)  # Plot histogram\n",
    "    #Set title and corodinates\n",
    "    plt.title('Binomial PMF with n={}, p={}'.format(n,p))  \n",
    "    plt.xlabel('number of covers')\n",
    "    plt.ylabel('probability')\n",
    "\n",
    "\n",
    "plot_binomial(25, 0.5)\n",
    "plt.show()"
   ]
  },
  {
   "cell_type": "code",
   "execution_count": 23,
   "metadata": {
    "collapsed": false
   },
   "outputs": [
    {
     "data": {
      "image/png": "[encoded data removed]",
      "text/plain": [
       "<matplotlib.figure.Figure at 0x7f050f9a39d0>"
      ]
     },
     "metadata": {},
     "output_type": "display_data"
    }
   ],
   "source": [
    "fig = plt.figure(figsize=(12,10)) #Set the size of the canvas\n",
    "p1 = fig.add_subplot(221)  # First subplot\n",
    "plot_binomial(25, 0.1)\n",
    "p2 = fig.add_subplot(222)  # Second subplot\n",
    "plot_binomial(25, 0.09)\n",
    "p3 = fig.add_subplot(223)  # Third subplot\n",
    "plot_binomial(25, 0.08)\n",
    "p4 = fig.add_subplot(224)  # Fourth subplot\n",
    "plot_binomial(25, 0.07)\n",
    "plt.show()"
   ]
  },
  {
   "cell_type": "markdown",
   "metadata": {},
   "source": [
    "So far the cover distribution is hard to fit, but the case when n=25, p=0.1, seems to be like the case."
   ]
  },
  {
   "cell_type": "markdown",
   "metadata": {},
   "source": [
    "## Merging two datasets"
   ]
  },
  {
   "cell_type": "markdown",
   "metadata": {},
   "source": [
    "Find the common attributes for two datasets first"
   ]
  },
  {
   "cell_type": "code",
   "execution_count": 24,
   "metadata": {
    "collapsed": false
   },
   "outputs": [
    {
     "data": {
      "text/plain": [
       "Index([u'Unnamed: 0', u'branch_number', u'concept_number',\n",
       "       u'revenue_centre_number', u'brand', u'sale_date', u'guest_check_number',\n",
       "       u'check_datetimestart', u'check_datetimestop', u'total_covers',\n",
       "       u'total_gross_sales', u'total_net_sales', u'total_service_charge',\n",
       "       u'total_tip', u'total_discount', u'total_cost', u'total_stock_cost',\n",
       "       u'total_tesco_rebate'],\n",
       "      dtype='object')"
      ]
     },
     "execution_count": 24,
     "metadata": {},
     "output_type": "execute_result"
    }
   ],
   "source": [
    "big_bills_selected.columns"
   ]
  },
  {
   "cell_type": "code",
   "execution_count": 25,
   "metadata": {
    "collapsed": false
   },
   "outputs": [
    {
     "data": {
      "text/plain": [
       "Index([u'Unnamed: 0', u'branch_number', u'concept_number', u'post_code',\n",
       "       u'town', u'county', u'country', u'brand', u'location', u'description',\n",
       "       u'region', u'rating', u'company', u'status', u'total_seats',\n",
       "       u'total_inside_seats', u'ground_seats', u'1st_floor_seats',\n",
       "       u'conservatory_seats', u'bar_seats', u'outside_seats',\n",
       "       u'private_dining_covers', u'exec_employee_id', u'ops_dir_employee_id',\n",
       "       u'ops_area_employee_id', u'area_chef_employee_id',\n",
       "       u'ops_manager_employee_id'],\n",
       "      dtype='object')"
      ]
     },
     "execution_count": 25,
     "metadata": {},
     "output_type": "execute_result"
    }
   ],
   "source": [
    "restaurant_portfolio.columns"
   ]
  },
  {
   "cell_type": "markdown",
   "metadata": {},
   "source": [
    "It seems that the attributes commonly appeared in the two datasets are two,‘branch_number' and ‘concept_number', but 'concept_number' is empty in the second dataset, so make 'branch_number' the key to merge."
   ]
  },
  {
   "cell_type": "code",
   "execution_count": 26,
   "metadata": {
    "collapsed": false
   },
   "outputs": [],
   "source": [
    "merged_df = pd.merge(big_bills_selected, restaurant_portfolio, on='branch_number')"
   ]
  },
  {
   "cell_type": "code",
   "execution_count": 27,
   "metadata": {
    "collapsed": false
   },
   "outputs": [
    {
     "data": {
      "text/html": [
       "<div>\n",
       "<table border=\"1\" class=\"dataframe\">\n",
       "  <thead>\n",
       "    <tr style=\"text-align: right;\">\n",
       "      <th></th>\n",
       "      <th>Unnamed: 0_x</th>\n",
       "      <th>branch_number</th>\n",
       "      <th>concept_number_x</th>\n",
       "      <th>revenue_centre_number</th>\n",
       "      <th>brand_x</th>\n",
       "      <th>sale_date</th>\n",
       "      <th>guest_check_number</th>\n",
       "      <th>check_datetimestart</th>\n",
       "      <th>check_datetimestop</th>\n",
       "      <th>total_covers</th>\n",
       "      <th>...</th>\n",
       "      <th>1st_floor_seats</th>\n",
       "      <th>conservatory_seats</th>\n",
       "      <th>bar_seats</th>\n",
       "      <th>outside_seats</th>\n",
       "      <th>private_dining_covers</th>\n",
       "      <th>exec_employee_id</th>\n",
       "      <th>ops_dir_employee_id</th>\n",
       "      <th>ops_area_employee_id</th>\n",
       "      <th>area_chef_employee_id</th>\n",
       "      <th>ops_manager_employee_id</th>\n",
       "    </tr>\n",
       "  </thead>\n",
       "  <tbody>\n",
       "    <tr>\n",
       "      <th>0</th>\n",
       "      <td>0</td>\n",
       "      <td>3338</td>\n",
       "      <td>1</td>\n",
       "      <td>2</td>\n",
       "      <td>Prezzo</td>\n",
       "      <td>2016-06-19</td>\n",
       "      <td>25</td>\n",
       "      <td>2016-06-19 13:57:47</td>\n",
       "      <td>2016-06-19 15:59:55</td>\n",
       "      <td>0</td>\n",
       "      <td>...</td>\n",
       "      <td>0.0</td>\n",
       "      <td>0.0</td>\n",
       "      <td>16.0</td>\n",
       "      <td>60.0</td>\n",
       "      <td>No</td>\n",
       "      <td>NaN</td>\n",
       "      <td>626.0</td>\n",
       "      <td>800078</td>\n",
       "      <td>NaN</td>\n",
       "      <td>999059.0</td>\n",
       "    </tr>\n",
       "    <tr>\n",
       "      <th>1</th>\n",
       "      <td>646</td>\n",
       "      <td>3338</td>\n",
       "      <td>1</td>\n",
       "      <td>1</td>\n",
       "      <td>Prezzo</td>\n",
       "      <td>2016-06-19</td>\n",
       "      <td>2</td>\n",
       "      <td>2016-06-19 13:05:28</td>\n",
       "      <td>2016-06-19 13:06:00</td>\n",
       "      <td>0</td>\n",
       "      <td>...</td>\n",
       "      <td>0.0</td>\n",
       "      <td>0.0</td>\n",
       "      <td>16.0</td>\n",
       "      <td>60.0</td>\n",
       "      <td>No</td>\n",
       "      <td>NaN</td>\n",
       "      <td>626.0</td>\n",
       "      <td>800078</td>\n",
       "      <td>NaN</td>\n",
       "      <td>999059.0</td>\n",
       "    </tr>\n",
       "    <tr>\n",
       "      <th>2</th>\n",
       "      <td>648</td>\n",
       "      <td>3338</td>\n",
       "      <td>1</td>\n",
       "      <td>1</td>\n",
       "      <td>Prezzo</td>\n",
       "      <td>2016-06-19</td>\n",
       "      <td>11</td>\n",
       "      <td>2016-06-19 16:29:55</td>\n",
       "      <td>2016-06-19 16:30:07</td>\n",
       "      <td>0</td>\n",
       "      <td>...</td>\n",
       "      <td>0.0</td>\n",
       "      <td>0.0</td>\n",
       "      <td>16.0</td>\n",
       "      <td>60.0</td>\n",
       "      <td>No</td>\n",
       "      <td>NaN</td>\n",
       "      <td>626.0</td>\n",
       "      <td>800078</td>\n",
       "      <td>NaN</td>\n",
       "      <td>999059.0</td>\n",
       "    </tr>\n",
       "    <tr>\n",
       "      <th>3</th>\n",
       "      <td>650</td>\n",
       "      <td>3338</td>\n",
       "      <td>1</td>\n",
       "      <td>1</td>\n",
       "      <td>Prezzo</td>\n",
       "      <td>2016-06-19</td>\n",
       "      <td>103</td>\n",
       "      <td>2016-06-19 20:19:09</td>\n",
       "      <td>2016-06-19 20:30:52</td>\n",
       "      <td>0</td>\n",
       "      <td>...</td>\n",
       "      <td>0.0</td>\n",
       "      <td>0.0</td>\n",
       "      <td>16.0</td>\n",
       "      <td>60.0</td>\n",
       "      <td>No</td>\n",
       "      <td>NaN</td>\n",
       "      <td>626.0</td>\n",
       "      <td>800078</td>\n",
       "      <td>NaN</td>\n",
       "      <td>999059.0</td>\n",
       "    </tr>\n",
       "    <tr>\n",
       "      <th>4</th>\n",
       "      <td>652</td>\n",
       "      <td>3338</td>\n",
       "      <td>1</td>\n",
       "      <td>1</td>\n",
       "      <td>Prezzo</td>\n",
       "      <td>2016-06-19</td>\n",
       "      <td>10</td>\n",
       "      <td>2016-06-19 12:52:23</td>\n",
       "      <td>2016-06-19 12:52:36</td>\n",
       "      <td>0</td>\n",
       "      <td>...</td>\n",
       "      <td>0.0</td>\n",
       "      <td>0.0</td>\n",
       "      <td>16.0</td>\n",
       "      <td>60.0</td>\n",
       "      <td>No</td>\n",
       "      <td>NaN</td>\n",
       "      <td>626.0</td>\n",
       "      <td>800078</td>\n",
       "      <td>NaN</td>\n",
       "      <td>999059.0</td>\n",
       "    </tr>\n",
       "  </tbody>\n",
       "</table>\n",
       "<p>5 rows × 44 columns</p>\n",
       "</div>"
      ],
      "text/plain": [
       "   Unnamed: 0_x  branch_number  concept_number_x  revenue_centre_number  \\\n",
       "0             0           3338                 1                      2   \n",
       "1           646           3338                 1                      1   \n",
       "2           648           3338                 1                      1   \n",
       "3           650           3338                 1                      1   \n",
       "4           652           3338                 1                      1   \n",
       "\n",
       "  brand_x   sale_date  guest_check_number  check_datetimestart  \\\n",
       "0  Prezzo  2016-06-19                  25  2016-06-19 13:57:47   \n",
       "1  Prezzo  2016-06-19                   2  2016-06-19 13:05:28   \n",
       "2  Prezzo  2016-06-19                  11  2016-06-19 16:29:55   \n",
       "3  Prezzo  2016-06-19                 103  2016-06-19 20:19:09   \n",
       "4  Prezzo  2016-06-19                  10  2016-06-19 12:52:23   \n",
       "\n",
       "    check_datetimestop  total_covers           ...             \\\n",
       "0  2016-06-19 15:59:55             0           ...              \n",
       "1  2016-06-19 13:06:00             0           ...              \n",
       "2  2016-06-19 16:30:07             0           ...              \n",
       "3  2016-06-19 20:30:52             0           ...              \n",
       "4  2016-06-19 12:52:36             0           ...              \n",
       "\n",
       "   1st_floor_seats  conservatory_seats  bar_seats  outside_seats  \\\n",
       "0              0.0                 0.0       16.0           60.0   \n",
       "1              0.0                 0.0       16.0           60.0   \n",
       "2              0.0                 0.0       16.0           60.0   \n",
       "3              0.0                 0.0       16.0           60.0   \n",
       "4              0.0                 0.0       16.0           60.0   \n",
       "\n",
       "   private_dining_covers  exec_employee_id  ops_dir_employee_id  \\\n",
       "0                     No               NaN                626.0   \n",
       "1                     No               NaN                626.0   \n",
       "2                     No               NaN                626.0   \n",
       "3                     No               NaN                626.0   \n",
       "4                     No               NaN                626.0   \n",
       "\n",
       "   ops_area_employee_id  area_chef_employee_id  ops_manager_employee_id  \n",
       "0                800078                    NaN                 999059.0  \n",
       "1                800078                    NaN                 999059.0  \n",
       "2                800078                    NaN                 999059.0  \n",
       "3                800078                    NaN                 999059.0  \n",
       "4                800078                    NaN                 999059.0  \n",
       "\n",
       "[5 rows x 44 columns]"
      ]
     },
     "execution_count": 27,
     "metadata": {},
     "output_type": "execute_result"
    }
   ],
   "source": [
    "merged_df.head()"
   ]
  },
  {
   "cell_type": "code",
   "execution_count": 28,
   "metadata": {
    "collapsed": false
   },
   "outputs": [
    {
     "data": {
      "text/plain": [
       "Index([u'Unnamed: 0_x', u'branch_number', u'concept_number_x',\n",
       "       u'revenue_centre_number', u'brand_x', u'sale_date',\n",
       "       u'guest_check_number', u'check_datetimestart', u'check_datetimestop',\n",
       "       u'total_covers', u'total_gross_sales', u'total_net_sales',\n",
       "       u'total_service_charge', u'total_tip', u'total_discount', u'total_cost',\n",
       "       u'total_stock_cost', u'total_tesco_rebate', u'Unnamed: 0_y',\n",
       "       u'concept_number_y', u'post_code', u'town', u'county', u'country',\n",
       "       u'brand_y', u'location', u'description', u'region', u'rating',\n",
       "       u'company', u'status', u'total_seats', u'total_inside_seats',\n",
       "       u'ground_seats', u'1st_floor_seats', u'conservatory_seats',\n",
       "       u'bar_seats', u'outside_seats', u'private_dining_covers',\n",
       "       u'exec_employee_id', u'ops_dir_employee_id', u'ops_area_employee_id',\n",
       "       u'area_chef_employee_id', u'ops_manager_employee_id'],\n",
       "      dtype='object')"
      ]
     },
     "execution_count": 28,
     "metadata": {},
     "output_type": "execute_result"
    }
   ],
   "source": [
    "merged_df.columns"
   ]
  },
  {
   "cell_type": "code",
   "execution_count": 29,
   "metadata": {
    "collapsed": false
   },
   "outputs": [
    {
     "data": {
      "text/plain": [
       "44"
      ]
     },
     "execution_count": 29,
     "metadata": {},
     "output_type": "execute_result"
    }
   ],
   "source": [
    "len(merged_df.columns)"
   ]
  },
  {
   "cell_type": "markdown",
   "metadata": {},
   "source": [
    "Now the information in two different datasets has come into one. And the newly merged dataset must be observed carefully to see if some attributes must be discarded."
   ]
  },
  {
   "cell_type": "markdown",
   "metadata": {},
   "source": [
    "And now the region information is available, and we can inspect the covers distribution by country, England, Wales, Scotland. It seems that restaurants in Northern Ireland are not directly available. And the covers distribution across different regions may be studied."
   ]
  },
  {
   "cell_type": "code",
   "execution_count": 30,
   "metadata": {
    "collapsed": true
   },
   "outputs": [],
   "source": [
    "#==================\n",
    "country1=\"England\"\n",
    "country2=\"Wales\"\n",
    "country3=\"Scotland\"\n",
    "country4='Northern Ireland'\n",
    "country5='Ireland'\n",
    "#=================="
   ]
  },
  {
   "cell_type": "code",
   "execution_count": 31,
   "metadata": {
    "collapsed": false
   },
   "outputs": [],
   "source": [
    "country1_df = merged_df[merged_df.country == country1]"
   ]
  },
  {
   "cell_type": "code",
   "execution_count": 32,
   "metadata": {
    "collapsed": false
   },
   "outputs": [
    {
     "data": {
      "image/png": "[encoded data removed]",
      "text/plain": [
       "<matplotlib.figure.Figure at 0x7f0511fbc410>"
      ]
     },
     "metadata": {},
     "output_type": "display_data"
    }
   ],
   "source": [
    "n_total, bins, patch = plt.hist(country1_df.total_covers, bins=np.arange(0,26,1), alpha=0.7,align=\"left\",normed=False,histtype=\"bar\")\n",
    "plt.xticks(np.arange(0,26,1))\n",
    "plt.title(\"Covers' Distribution for {}\".format(country1))\n",
    "plt.xlabel('Number of covers')\n",
    "plt.ylabel('Number of Transactions')\n",
    "plt.show()"
   ]
  },
  {
   "cell_type": "code",
   "execution_count": 33,
   "metadata": {
    "collapsed": false
   },
   "outputs": [],
   "source": [
    "country2_df = merged_df[merged_df.country == country2]"
   ]
  },
  {
   "cell_type": "code",
   "execution_count": 34,
   "metadata": {
    "collapsed": false
   },
   "outputs": [
    {
     "data": {
      "image/png": "[encoded data removed]",
      "text/plain": [
       "<matplotlib.figure.Figure at 0x7f0511f385d0>"
      ]
     },
     "metadata": {},
     "output_type": "display_data"
    }
   ],
   "source": [
    "n_total, bins, patch = plt.hist(country2_df.total_covers, bins=np.arange(0,26,1), alpha=0.7,align=\"left\",normed=False,histtype=\"bar\")\n",
    "plt.xticks(np.arange(0,26,1))\n",
    "plt.title(\"Covers' Distribution for {}\".format(country2))\n",
    "plt.xlabel('Number of covers')\n",
    "plt.ylabel('Number of Transactions')\n",
    "plt.show()"
   ]
  },
  {
   "cell_type": "code",
   "execution_count": 35,
   "metadata": {
    "collapsed": true
   },
   "outputs": [],
   "source": [
    "country3_df = merged_df[merged_df.country == country3]"
   ]
  },
  {
   "cell_type": "code",
   "execution_count": 36,
   "metadata": {
    "collapsed": false
   },
   "outputs": [
    {
     "data": {
      "image/png": "[encoded data removed]",
      "text/plain": [
       "<matplotlib.figure.Figure at 0x7f0511400ad0>"
      ]
     },
     "metadata": {},
     "output_type": "display_data"
    }
   ],
   "source": [
    "n_total, bins, patch = plt.hist(country3_df.total_covers, bins=np.arange(0,26,1), alpha=0.7,align=\"left\",normed=False,histtype=\"bar\")\n",
    "plt.xticks(np.arange(0,26,1))\n",
    "plt.title(\"Covers' Distribution for {}\".format(country3))\n",
    "plt.xlabel('Number of covers')\n",
    "plt.ylabel('Number of Transactions')\n",
    "plt.show()"
   ]
  },
  {
   "cell_type": "code",
   "execution_count": 37,
   "metadata": {
    "collapsed": false
   },
   "outputs": [],
   "source": [
    "country4_df = merged_df[merged_df.country == country4]"
   ]
  },
  {
   "cell_type": "code",
   "execution_count": 38,
   "metadata": {
    "collapsed": false
   },
   "outputs": [
    {
     "data": {
      "image/png": "[encoded data removed]",
      "text/plain": [
       "<matplotlib.figure.Figure at 0x7f0511bddad0>"
      ]
     },
     "metadata": {},
     "output_type": "display_data"
    }
   ],
   "source": [
    "n_total, bins, patch = plt.hist(country4_df.total_covers, bins=np.arange(0,26,1), alpha=0.7,align=\"left\",normed=False,histtype=\"bar\")\n",
    "plt.xticks(np.arange(0,26,1))\n",
    "plt.title(\"Covers' Distribution for {}\".format(country4))\n",
    "plt.xlabel('Number of covers')\n",
    "plt.ylabel('Number of Transactions')\n",
    "plt.show()"
   ]
  },
  {
   "cell_type": "code",
   "execution_count": 39,
   "metadata": {
    "collapsed": true
   },
   "outputs": [],
   "source": [
    "country5_df = merged_df[merged_df.country == country5]"
   ]
  },
  {
   "cell_type": "code",
   "execution_count": 40,
   "metadata": {
    "collapsed": false
   },
   "outputs": [
    {
     "data": {
      "image/png": "[encoded data removed]",
      "text/plain": [
       "<matplotlib.figure.Figure at 0x7f050ff88a10>"
      ]
     },
     "metadata": {},
     "output_type": "display_data"
    }
   ],
   "source": [
    "n_total, bins, patch = plt.hist(country5_df.total_covers, bins=np.arange(0,26,1), alpha=0.7,align=\"left\",normed=False,histtype=\"bar\")\n",
    "plt.xticks(np.arange(0,26,1))\n",
    "plt.title(\"Covers' Distribution for {}\".format(country5))\n",
    "plt.xlabel('Number of covers')\n",
    "plt.ylabel('Number of Transactions')\n",
    "plt.show()"
   ]
  },
  {
   "cell_type": "markdown",
   "metadata": {},
   "source": [
    "The three countries in the UK exhibit similar features on how many covers customers generally order for, but Ireland is a bit different.\n",
    "\n",
    "And I may differentiate England by regions in later versions."
   ]
  },
  {
   "cell_type": "code",
   "execution_count": 41,
   "metadata": {
    "collapsed": true
   },
   "outputs": [],
   "source": [
    "from scipy.stats import ks_2samp"
   ]
  },
  {
   "cell_type": "code",
   "execution_count": 43,
   "metadata": {
    "collapsed": false
   },
   "outputs": [
    {
     "data": {
      "text/plain": [
       "Ks_2sampResult(statistic=0.024390404108384417, pvalue=8.4196288637346479e-53)"
      ]
     },
     "execution_count": 43,
     "metadata": {},
     "output_type": "execute_result"
    }
   ],
   "source": [
    "ks_2samp(country1_df.total_covers,country2_df.total_covers)"
   ]
  },
  {
   "cell_type": "code",
   "execution_count": 44,
   "metadata": {
    "collapsed": false
   },
   "outputs": [
    {
     "data": {
      "text/plain": [
       "Ks_2sampResult(statistic=0.040057920308312678, pvalue=1.9543986081628227e-276)"
      ]
     },
     "execution_count": 44,
     "metadata": {},
     "output_type": "execute_result"
    }
   ],
   "source": [
    "ks_2samp(country1_df.total_covers,country3_df.total_covers)"
   ]
  },
  {
   "cell_type": "code",
   "execution_count": 46,
   "metadata": {
    "collapsed": false
   },
   "outputs": [
    {
     "data": {
      "text/plain": [
       "Ks_2sampResult(statistic=0.039036938915292696, pvalue=8.2576935437545251e-36)"
      ]
     },
     "execution_count": 46,
     "metadata": {},
     "output_type": "execute_result"
    }
   ],
   "source": [
    "ks_2samp(country1_df.total_covers,country4_df.total_covers)"
   ]
  },
  {
   "cell_type": "code",
   "execution_count": 47,
   "metadata": {
    "collapsed": false
   },
   "outputs": [
    {
     "data": {
      "text/plain": [
       "Ks_2sampResult(statistic=0.081157681259489967, pvalue=2.8877065109824679e-166)"
      ]
     },
     "execution_count": 47,
     "metadata": {},
     "output_type": "execute_result"
    }
   ],
   "source": [
    "ks_2samp(country1_df.total_covers,country5_df.total_covers)"
   ]
  },
  {
   "cell_type": "markdown",
   "metadata": {},
   "source": [
    "### Feature screening (manually)"
   ]
  },
  {
   "cell_type": "markdown",
   "metadata": {},
   "source": [
    "Roughly, there are 43 'features' as candidates for the supervised learning model. However, we can clearly see that many of the attributes are registry information that means nothing and many data are missing. So there must be two steps as least for the preliminary model."
   ]
  },
  {
   "cell_type": "markdown",
   "metadata": {},
   "source": [
    "#### Attributes that are not meaningful"
   ]
  },
  {
   "cell_type": "code",
   "execution_count": 36,
   "metadata": {
    "collapsed": false
   },
   "outputs": [
    {
     "data": {
      "text/plain": [
       "3386    93219\n",
       "3338    74334\n",
       "3323    47315\n",
       "3324    45855\n",
       "3234    45078\n",
       "3350    43459\n",
       "3646    42041\n",
       "3210    41983\n",
       "3351    41069\n",
       "3294    35876\n",
       "3369    32363\n",
       "3346    32036\n",
       "3603    31787\n",
       "3363    31761\n",
       "3610    31307\n",
       "3240    31284\n",
       "3326    30943\n",
       "3602    30424\n",
       "3383    30148\n",
       "3283    29702\n",
       "3629    29323\n",
       "3667    29279\n",
       "3300    29223\n",
       "3347    29150\n",
       "2001    29123\n",
       "3364    29020\n",
       "3301    28583\n",
       "3624    28526\n",
       "3313    28456\n",
       "3380    28456\n",
       "        ...  \n",
       "3382    12538\n",
       "3622    12463\n",
       "3274    12399\n",
       "3672    12361\n",
       "3665    12340\n",
       "3626    12235\n",
       "3302    12168\n",
       "3678    12044\n",
       "3666    11980\n",
       "3290    11962\n",
       "3627    11854\n",
       "3671    11698\n",
       "3656    11396\n",
       "3214    11335\n",
       "3668    10878\n",
       "3674    10767\n",
       "3321    10681\n",
       "3659    10549\n",
       "3215    10226\n",
       "3374     9860\n",
       "3273     9859\n",
       "3267     9577\n",
       "3673     9405\n",
       "3306     9166\n",
       "3676     9077\n",
       "3227     8502\n",
       "3680     8135\n",
       "3635     7425\n",
       "3681     7285\n",
       "3679     5235\n",
       "Name: branch_number, dtype: int64"
      ]
     },
     "execution_count": 36,
     "metadata": {},
     "output_type": "execute_result"
    }
   ],
   "source": [
    "# branch number\n",
    "branch_number_count = merged_df.branch_number.value_counts(dropna = False)\n",
    "branch_number_count"
   ]
  },
  {
   "cell_type": "code",
   "execution_count": 37,
   "metadata": {
    "collapsed": false
   },
   "outputs": [
    {
     "data": {
      "text/plain": [
       "258"
      ]
     },
     "execution_count": 37,
     "metadata": {},
     "output_type": "execute_result"
    }
   ],
   "source": [
    "len(branch_number_count.index)"
   ]
  },
  {
   "cell_type": "markdown",
   "metadata": {},
   "source": [
    "There are 258 branches in the record."
   ]
  },
  {
   "cell_type": "code",
   "execution_count": 38,
   "metadata": {
    "collapsed": false
   },
   "outputs": [
    {
     "data": {
      "text/plain": [
       "1     5122497\n",
       "11      29123\n",
       "Name: concept_number_x, dtype: int64"
      ]
     },
     "execution_count": 38,
     "metadata": {},
     "output_type": "execute_result"
    }
   ],
   "source": [
    "# concept_number\n",
    "merged_df.concept_number_x.value_counts(dropna = False)"
   ]
  },
  {
   "cell_type": "code",
   "execution_count": 40,
   "metadata": {
    "collapsed": false
   },
   "outputs": [
    {
     "data": {
      "text/plain": [
       "1    5094975\n",
       "3      30865\n",
       "2      25780\n",
       "Name: revenue_centre_number, dtype: int64"
      ]
     },
     "execution_count": 40,
     "metadata": {},
     "output_type": "execute_result"
    }
   ],
   "source": [
    "# revenue_centre_number\n",
    "merged_df.revenue_centre_number.value_counts(dropna = False)"
   ]
  },
  {
   "cell_type": "code",
   "execution_count": 41,
   "metadata": {
    "collapsed": false
   },
   "outputs": [
    {
     "data": {
      "text/plain": [
       "Prezzo              5151564\n",
       "DELISTED PRODUCT         56\n",
       "Name: brand_x, dtype: int64"
      ]
     },
     "execution_count": 41,
     "metadata": {},
     "output_type": "execute_result"
    }
   ],
   "source": [
    "# brand\n",
    "merged_df.brand_x.value_counts(dropna = False)"
   ]
  },
  {
   "cell_type": "markdown",
   "metadata": {},
   "source": [
    "This one should be discarded."
   ]
  },
  {
   "cell_type": "code",
   "execution_count": 42,
   "metadata": {
    "collapsed": false
   },
   "outputs": [
    {
     "data": {
      "text/plain": [
       "2017-02-14    22014\n",
       "2017-03-25    21749\n",
       "2017-02-18    21316\n",
       "2017-03-04    21120\n",
       "2017-03-18    21092\n",
       "2017-03-11    20902\n",
       "2017-05-20    20878\n",
       "2016-11-26    20767\n",
       "2017-01-28    20750\n",
       "2016-10-08    20688\n",
       "2017-01-21    20576\n",
       "2016-10-01    20564\n",
       "2017-04-01    20532\n",
       "2017-02-25    20507\n",
       "2017-04-29    20194\n",
       "2016-11-19    20179\n",
       "2016-12-03    20106\n",
       "2016-09-24    19876\n",
       "2017-02-04    19848\n",
       "2016-10-15    19753\n",
       "2017-01-14    19700\n",
       "2017-02-11    19620\n",
       "2016-11-12    19574\n",
       "2016-09-17    19536\n",
       "2016-12-10    19417\n",
       "2016-07-02    19388\n",
       "2016-11-25    19313\n",
       "2017-05-13    19168\n",
       "2017-03-26    19103\n",
       "2016-10-22    19081\n",
       "              ...  \n",
       "2017-05-09     9594\n",
       "2017-02-28     9462\n",
       "2017-03-27     9404\n",
       "2017-06-05     9377\n",
       "2016-10-31     9370\n",
       "2017-03-06     9277\n",
       "2016-09-19     9273\n",
       "2016-10-17     9219\n",
       "2016-06-20     9215\n",
       "2016-09-26     9201\n",
       "2016-10-03     9163\n",
       "2016-06-27     9160\n",
       "2017-03-20     9081\n",
       "2016-10-10     8976\n",
       "2016-11-14     8942\n",
       "2016-11-21     8813\n",
       "2017-01-12     8784\n",
       "2017-03-13     8783\n",
       "2017-01-30     8743\n",
       "2016-11-07     8742\n",
       "2017-01-10     8713\n",
       "2017-04-24     8668\n",
       "2017-02-27     8480\n",
       "2017-05-08     8426\n",
       "2017-02-06     7980\n",
       "2017-01-23     7940\n",
       "2017-01-16     7660\n",
       "2016-12-26     7620\n",
       "2017-01-09     6950\n",
       "2016-12-25        1\n",
       "Name: sale_date, dtype: int64"
      ]
     },
     "execution_count": 42,
     "metadata": {},
     "output_type": "execute_result"
    }
   ],
   "source": [
    "# sale_date\n",
    "merged_df.sale_date.value_counts(dropna = False)"
   ]
  },
  {
   "cell_type": "code",
   "execution_count": 43,
   "metadata": {
    "collapsed": false
   },
   "outputs": [
    {
     "data": {
      "text/plain": [
       "4      92479\n",
       "6      92478\n",
       "5      92473\n",
       "3      92471\n",
       "2      92447\n",
       "7      92442\n",
       "8      92428\n",
       "1      92419\n",
       "9      92389\n",
       "10     92320\n",
       "11     92236\n",
       "12     92142\n",
       "13     91990\n",
       "14     91843\n",
       "15     91636\n",
       "16     91379\n",
       "17     91051\n",
       "18     90699\n",
       "19     90249\n",
       "20     89717\n",
       "21     89111\n",
       "22     88413\n",
       "23     87725\n",
       "24     86839\n",
       "25     85846\n",
       "26     84861\n",
       "27     83760\n",
       "28     82624\n",
       "29     81365\n",
       "30     80034\n",
       "       ...  \n",
       "341        8\n",
       "342        7\n",
       "344        6\n",
       "345        6\n",
       "343        6\n",
       "351        5\n",
       "354        5\n",
       "353        5\n",
       "352        5\n",
       "350        5\n",
       "348        5\n",
       "347        5\n",
       "346        5\n",
       "349        5\n",
       "355        4\n",
       "356        3\n",
       "357        3\n",
       "0          2\n",
       "358        2\n",
       "359        2\n",
       "360        2\n",
       "368        1\n",
       "361        1\n",
       "362        1\n",
       "363        1\n",
       "364        1\n",
       "365        1\n",
       "366        1\n",
       "367        1\n",
       "369        1\n",
       "Name: guest_check_number, dtype: int64"
      ]
     },
     "execution_count": 43,
     "metadata": {},
     "output_type": "execute_result"
    }
   ],
   "source": [
    "# guest_check_number\n",
    "merged_df.guest_check_number.value_counts(dropna = False)"
   ]
  },
  {
   "cell_type": "code",
   "execution_count": 44,
   "metadata": {
    "collapsed": false
   },
   "outputs": [
    {
     "data": {
      "text/plain": [
       "2016-11-18 19:42:59    8\n",
       "2017-05-20 19:04:42    8\n",
       "2016-07-30 19:01:35    8\n",
       "2016-06-21 19:07:30    8\n",
       "2016-09-03 13:02:46    8\n",
       "2016-10-31 18:58:29    8\n",
       "2017-01-06 19:29:34    7\n",
       "2017-02-25 20:00:18    7\n",
       "2016-09-30 19:03:11    7\n",
       "2017-05-06 18:01:28    7\n",
       "2017-03-23 18:14:09    7\n",
       "2016-07-08 19:09:08    7\n",
       "2016-12-09 20:09:02    7\n",
       "2017-02-14 18:55:08    7\n",
       "2016-07-21 19:48:28    7\n",
       "2017-06-01 19:04:21    7\n",
       "2017-05-19 19:23:46    7\n",
       "2016-08-10 19:56:10    7\n",
       "2017-06-02 19:33:52    7\n",
       "2017-03-31 19:42:26    7\n",
       "2017-01-13 19:38:36    7\n",
       "2017-03-22 17:57:26    7\n",
       "2016-11-05 17:55:27    7\n",
       "2017-02-14 20:00:01    7\n",
       "2016-07-06 19:14:07    7\n",
       "2016-07-29 19:22:37    7\n",
       "2017-03-03 20:08:56    7\n",
       "2017-04-29 19:25:59    7\n",
       "2017-05-28 20:25:41    7\n",
       "2017-04-14 13:29:05    7\n",
       "                      ..\n",
       "2016-08-01 13:30:46    1\n",
       "2017-02-15 13:45:52    1\n",
       "2016-11-09 20:04:05    1\n",
       "2016-12-27 18:20:42    1\n",
       "2016-12-27 08:56:25    1\n",
       "2017-05-10 20:14:24    1\n",
       "2016-09-14 18:13:17    1\n",
       "2017-04-08 20:11:30    1\n",
       "2017-06-04 12:41:52    1\n",
       "2017-04-04 14:11:18    1\n",
       "2016-09-27 13:15:27    1\n",
       "2016-11-11 16:58:39    1\n",
       "2017-01-27 13:46:36    1\n",
       "2017-03-12 15:21:52    1\n",
       "2016-08-07 13:58:50    1\n",
       "2017-02-09 22:24:23    1\n",
       "2017-06-19 23:13:26    1\n",
       "2016-08-03 15:05:40    1\n",
       "2016-11-27 13:30:21    1\n",
       "2016-10-04 12:28:55    1\n",
       "2016-09-22 15:07:21    1\n",
       "2016-10-17 16:57:52    1\n",
       "2016-12-02 13:18:19    1\n",
       "2016-08-05 13:10:01    1\n",
       "2017-02-06 17:44:36    1\n",
       "2016-06-26 14:16:15    1\n",
       "2017-04-07 17:00:18    1\n",
       "2016-12-28 14:37:04    1\n",
       "2017-02-19 21:40:42    1\n",
       "2016-12-11 15:30:51    1\n",
       "Name: check_datetimestart, dtype: int64"
      ]
     },
     "execution_count": 44,
     "metadata": {},
     "output_type": "execute_result"
    }
   ],
   "source": [
    "# check_datetimestart\n",
    "merged_df.check_datetimestart.value_counts(dropna = False)"
   ]
  },
  {
   "cell_type": "code",
   "execution_count": 47,
   "metadata": {
    "collapsed": false
   },
   "outputs": [
    {
     "data": {
      "text/plain": [
       "4073195"
      ]
     },
     "execution_count": 47,
     "metadata": {},
     "output_type": "execute_result"
    }
   ],
   "source": [
    "len(merged_df.check_datetimestart.value_counts(dropna = False).index)"
   ]
  },
  {
   "cell_type": "markdown",
   "metadata": {},
   "source": [
    "Too many 'check_datetimestart' time slots, this must be eliminated, same for 'check_datetimestop' time slots.\n",
    "\n",
    "However, they can be used to get the time for having the food."
   ]
  },
  {
   "cell_type": "code",
   "execution_count": 48,
   "metadata": {
    "collapsed": true
   },
   "outputs": [],
   "source": [
    "# total_gross_sales, surely an important one\n",
    "# total_net_sales, the same\n",
    "\n",
    "# These two surely should be very important"
   ]
  },
  {
   "cell_type": "code",
   "execution_count": 49,
   "metadata": {
    "collapsed": false
   },
   "outputs": [
    {
     "data": {
      "text/plain": [
       " 0.00      143519\n",
       "NaN        113826\n",
       " 19.99      21987\n",
       " 30.00      15451\n",
       " 39.90       6375\n",
       " 2.59        5087\n",
       " 4.99        4938\n",
       " 9.99        4931\n",
       " 5.18        4681\n",
       " 10.99       4574\n",
       " 29.90       4460\n",
       " 5.58        4296\n",
       " 28.56       4093\n",
       " 28.36       4012\n",
       " 28.16       3974\n",
       " 2.79        3927\n",
       " 29.56       3911\n",
       " 28.96       3785\n",
       " 28.76       3635\n",
       " 29.16       3631\n",
       " 29.96       3629\n",
       " 27.16       3609\n",
       " 29.36       3577\n",
       " 27.36       3568\n",
       " 27.76       3561\n",
       " 9.98        3533\n",
       " 45.90       3488\n",
       " 28.86       3481\n",
       " 29.76       3451\n",
       " 27.56       3442\n",
       "            ...  \n",
       " 454.88         1\n",
       " 453.37         1\n",
       " 467.89         1\n",
       " 466.14         1\n",
       " 831.17         1\n",
       " 446.37         1\n",
       " 434.87         1\n",
       " 474.36         1\n",
       "-77.49          1\n",
       " 479.89         1\n",
       "-97.06          1\n",
       " 445.37         1\n",
       " 445.87         1\n",
       " 478.86         1\n",
       " 447.88         1\n",
       " 447.63         1\n",
       " 444.37         1\n",
       " 476.14         1\n",
       " 479.36         1\n",
       " 447.38         1\n",
       " 447.13         1\n",
       " 444.88         1\n",
       " 475.39         1\n",
       " 472.36         1\n",
       " 447.62         1\n",
       " 472.11         1\n",
       " 475.89         1\n",
       " 444.13         1\n",
       " 445.88         1\n",
       " 400.42         1\n",
       "Name: total_gross_sales, dtype: int64"
      ]
     },
     "execution_count": 49,
     "metadata": {},
     "output_type": "execute_result"
    }
   ],
   "source": [
    "total_gross_sales_count = merged_df.total_gross_sales.value_counts(dropna = False)\n",
    "total_gross_sales_count"
   ]
  },
  {
   "cell_type": "code",
   "execution_count": 50,
   "metadata": {
    "collapsed": false
   },
   "outputs": [
    {
     "data": {
      "text/plain": [
       "40013"
      ]
     },
     "execution_count": 50,
     "metadata": {},
     "output_type": "execute_result"
    }
   ],
   "source": [
    "len(total_gross_sales_count.index)"
   ]
  },
  {
   "cell_type": "code",
   "execution_count": 51,
   "metadata": {
    "collapsed": false
   },
   "outputs": [
    {
     "data": {
      "text/plain": [
       " 0.000       143519\n",
       "NaN          113826\n",
       " 16.658       21987\n",
       " 25.000       15451\n",
       " 33.250        6375\n",
       " 2.158         5087\n",
       " 4.158         4938\n",
       " 8.325         4931\n",
       " 4.316         4681\n",
       " 9.158         4574\n",
       " 24.916        4460\n",
       " 4.650         4296\n",
       " 23.800        4093\n",
       " 23.633        4012\n",
       " 23.466        3974\n",
       " 2.325         3927\n",
       " 24.633        3911\n",
       " 24.133        3785\n",
       " 23.966        3635\n",
       " 24.300        3631\n",
       " 24.966        3629\n",
       " 22.633        3609\n",
       " 24.466        3577\n",
       " 22.800        3568\n",
       " 23.133        3561\n",
       " 8.316         3533\n",
       " 38.250        3488\n",
       " 24.050        3481\n",
       " 24.800        3451\n",
       " 22.966        3442\n",
       "              ...  \n",
       " 277.833          1\n",
       " 642.950          1\n",
       " 572.233          1\n",
       " 444.550          1\n",
       " 466.733          1\n",
       " 473.000          1\n",
       " 466.483          1\n",
       " 276.208          1\n",
       "-40.008           1\n",
       " 276.083          1\n",
       " 467.858          1\n",
       " 327.091          1\n",
       " 2764.658         1\n",
       " 277.708          1\n",
       " 446.700          1\n",
       " 324.091          1\n",
       " 323.908          1\n",
       " 440.050          1\n",
       " 441.200          1\n",
       " 327.841          1\n",
       " 650.200          1\n",
       " 343.041          1\n",
       " 207.308          1\n",
       " 512.908          1\n",
       " 645.450          1\n",
       " 327.716          1\n",
       " 446.325          1\n",
       "-6.433            1\n",
       " 277.458          1\n",
       " 346.400          1\n",
       "Name: total_net_sales, dtype: int64"
      ]
     },
     "execution_count": 51,
     "metadata": {},
     "output_type": "execute_result"
    }
   ],
   "source": [
    "total_net_sales_count = merged_df.total_net_sales.value_counts(dropna = False)\n",
    "total_net_sales_count"
   ]
  },
  {
   "cell_type": "code",
   "execution_count": 52,
   "metadata": {
    "collapsed": false
   },
   "outputs": [
    {
     "data": {
      "text/plain": [
       "40013"
      ]
     },
     "execution_count": 52,
     "metadata": {},
     "output_type": "execute_result"
    }
   ],
   "source": [
    "len(total_net_sales_count.index)"
   ]
  },
  {
   "cell_type": "markdown",
   "metadata": {},
   "source": [
    "All the two attributes have 40012 different types of values (except for NaN), so this can be more carefully examined."
   ]
  },
  {
   "cell_type": "code",
   "execution_count": 53,
   "metadata": {
    "collapsed": true
   },
   "outputs": [],
   "source": [
    "merged_df_40012 = merged_df[['total_gross_sales', 'total_net_sales']]"
   ]
  },
  {
   "cell_type": "code",
   "execution_count": 54,
   "metadata": {
    "collapsed": false
   },
   "outputs": [
    {
     "data": {
      "text/html": [
       "<div>\n",
       "<table border=\"1\" class=\"dataframe\">\n",
       "  <thead>\n",
       "    <tr style=\"text-align: right;\">\n",
       "      <th></th>\n",
       "      <th>total_gross_sales</th>\n",
       "      <th>total_net_sales</th>\n",
       "    </tr>\n",
       "  </thead>\n",
       "  <tbody>\n",
       "    <tr>\n",
       "      <th>0</th>\n",
       "      <td>18.92</td>\n",
       "      <td>15.766</td>\n",
       "    </tr>\n",
       "    <tr>\n",
       "      <th>1</th>\n",
       "      <td>-15.87</td>\n",
       "      <td>-13.225</td>\n",
       "    </tr>\n",
       "    <tr>\n",
       "      <th>2</th>\n",
       "      <td>0.00</td>\n",
       "      <td>0.000</td>\n",
       "    </tr>\n",
       "    <tr>\n",
       "      <th>3</th>\n",
       "      <td>3.69</td>\n",
       "      <td>3.075</td>\n",
       "    </tr>\n",
       "    <tr>\n",
       "      <th>4</th>\n",
       "      <td>4.99</td>\n",
       "      <td>4.158</td>\n",
       "    </tr>\n",
       "  </tbody>\n",
       "</table>\n",
       "</div>"
      ],
      "text/plain": [
       "   total_gross_sales  total_net_sales\n",
       "0              18.92           15.766\n",
       "1             -15.87          -13.225\n",
       "2               0.00            0.000\n",
       "3               3.69            3.075\n",
       "4               4.99            4.158"
      ]
     },
     "execution_count": 54,
     "metadata": {},
     "output_type": "execute_result"
    }
   ],
   "source": [
    "merged_df_40012.head()"
   ]
  },
  {
   "cell_type": "code",
   "execution_count": 55,
   "metadata": {
    "collapsed": false
   },
   "outputs": [
    {
     "data": {
      "text/html": [
       "<div>\n",
       "<table border=\"1\" class=\"dataframe\">\n",
       "  <thead>\n",
       "    <tr style=\"text-align: right;\">\n",
       "      <th></th>\n",
       "      <th>total_gross_sales</th>\n",
       "      <th>total_net_sales</th>\n",
       "    </tr>\n",
       "  </thead>\n",
       "  <tbody>\n",
       "    <tr>\n",
       "      <th>2457</th>\n",
       "      <td>19.99</td>\n",
       "      <td>16.658</td>\n",
       "    </tr>\n",
       "    <tr>\n",
       "      <th>6303</th>\n",
       "      <td>19.99</td>\n",
       "      <td>16.658</td>\n",
       "    </tr>\n",
       "    <tr>\n",
       "      <th>6829</th>\n",
       "      <td>19.99</td>\n",
       "      <td>16.658</td>\n",
       "    </tr>\n",
       "    <tr>\n",
       "      <th>8852</th>\n",
       "      <td>19.99</td>\n",
       "      <td>16.658</td>\n",
       "    </tr>\n",
       "    <tr>\n",
       "      <th>8864</th>\n",
       "      <td>19.99</td>\n",
       "      <td>16.658</td>\n",
       "    </tr>\n",
       "    <tr>\n",
       "      <th>9367</th>\n",
       "      <td>19.99</td>\n",
       "      <td>16.658</td>\n",
       "    </tr>\n",
       "    <tr>\n",
       "      <th>11462</th>\n",
       "      <td>19.99</td>\n",
       "      <td>16.658</td>\n",
       "    </tr>\n",
       "    <tr>\n",
       "      <th>11664</th>\n",
       "      <td>19.99</td>\n",
       "      <td>16.658</td>\n",
       "    </tr>\n",
       "    <tr>\n",
       "      <th>13491</th>\n",
       "      <td>19.99</td>\n",
       "      <td>16.658</td>\n",
       "    </tr>\n",
       "    <tr>\n",
       "      <th>14333</th>\n",
       "      <td>19.99</td>\n",
       "      <td>16.658</td>\n",
       "    </tr>\n",
       "    <tr>\n",
       "      <th>14334</th>\n",
       "      <td>19.99</td>\n",
       "      <td>16.658</td>\n",
       "    </tr>\n",
       "    <tr>\n",
       "      <th>14552</th>\n",
       "      <td>19.99</td>\n",
       "      <td>16.658</td>\n",
       "    </tr>\n",
       "    <tr>\n",
       "      <th>16561</th>\n",
       "      <td>19.99</td>\n",
       "      <td>16.658</td>\n",
       "    </tr>\n",
       "    <tr>\n",
       "      <th>17487</th>\n",
       "      <td>19.99</td>\n",
       "      <td>16.658</td>\n",
       "    </tr>\n",
       "    <tr>\n",
       "      <th>19308</th>\n",
       "      <td>19.99</td>\n",
       "      <td>16.658</td>\n",
       "    </tr>\n",
       "    <tr>\n",
       "      <th>19956</th>\n",
       "      <td>19.99</td>\n",
       "      <td>16.658</td>\n",
       "    </tr>\n",
       "    <tr>\n",
       "      <th>20179</th>\n",
       "      <td>19.99</td>\n",
       "      <td>16.658</td>\n",
       "    </tr>\n",
       "    <tr>\n",
       "      <th>20180</th>\n",
       "      <td>19.99</td>\n",
       "      <td>16.658</td>\n",
       "    </tr>\n",
       "    <tr>\n",
       "      <th>20798</th>\n",
       "      <td>19.99</td>\n",
       "      <td>16.658</td>\n",
       "    </tr>\n",
       "    <tr>\n",
       "      <th>20799</th>\n",
       "      <td>19.99</td>\n",
       "      <td>16.658</td>\n",
       "    </tr>\n",
       "    <tr>\n",
       "      <th>20801</th>\n",
       "      <td>19.99</td>\n",
       "      <td>16.658</td>\n",
       "    </tr>\n",
       "    <tr>\n",
       "      <th>20802</th>\n",
       "      <td>19.99</td>\n",
       "      <td>16.658</td>\n",
       "    </tr>\n",
       "    <tr>\n",
       "      <th>21100</th>\n",
       "      <td>19.99</td>\n",
       "      <td>16.658</td>\n",
       "    </tr>\n",
       "    <tr>\n",
       "      <th>21101</th>\n",
       "      <td>19.99</td>\n",
       "      <td>16.658</td>\n",
       "    </tr>\n",
       "    <tr>\n",
       "      <th>21102</th>\n",
       "      <td>19.99</td>\n",
       "      <td>16.658</td>\n",
       "    </tr>\n",
       "    <tr>\n",
       "      <th>21406</th>\n",
       "      <td>19.99</td>\n",
       "      <td>16.658</td>\n",
       "    </tr>\n",
       "    <tr>\n",
       "      <th>21572</th>\n",
       "      <td>19.99</td>\n",
       "      <td>16.658</td>\n",
       "    </tr>\n",
       "    <tr>\n",
       "      <th>21573</th>\n",
       "      <td>19.99</td>\n",
       "      <td>16.658</td>\n",
       "    </tr>\n",
       "    <tr>\n",
       "      <th>21574</th>\n",
       "      <td>19.99</td>\n",
       "      <td>16.658</td>\n",
       "    </tr>\n",
       "    <tr>\n",
       "      <th>21575</th>\n",
       "      <td>19.99</td>\n",
       "      <td>16.658</td>\n",
       "    </tr>\n",
       "    <tr>\n",
       "      <th>...</th>\n",
       "      <td>...</td>\n",
       "      <td>...</td>\n",
       "    </tr>\n",
       "    <tr>\n",
       "      <th>5133279</th>\n",
       "      <td>19.99</td>\n",
       "      <td>16.658</td>\n",
       "    </tr>\n",
       "    <tr>\n",
       "      <th>5133394</th>\n",
       "      <td>19.99</td>\n",
       "      <td>16.658</td>\n",
       "    </tr>\n",
       "    <tr>\n",
       "      <th>5133467</th>\n",
       "      <td>19.99</td>\n",
       "      <td>16.658</td>\n",
       "    </tr>\n",
       "    <tr>\n",
       "      <th>5133649</th>\n",
       "      <td>19.99</td>\n",
       "      <td>16.658</td>\n",
       "    </tr>\n",
       "    <tr>\n",
       "      <th>5133698</th>\n",
       "      <td>19.99</td>\n",
       "      <td>16.658</td>\n",
       "    </tr>\n",
       "    <tr>\n",
       "      <th>5133742</th>\n",
       "      <td>19.99</td>\n",
       "      <td>16.658</td>\n",
       "    </tr>\n",
       "    <tr>\n",
       "      <th>5133807</th>\n",
       "      <td>19.99</td>\n",
       "      <td>16.658</td>\n",
       "    </tr>\n",
       "    <tr>\n",
       "      <th>5133808</th>\n",
       "      <td>19.99</td>\n",
       "      <td>16.658</td>\n",
       "    </tr>\n",
       "    <tr>\n",
       "      <th>5133842</th>\n",
       "      <td>19.99</td>\n",
       "      <td>16.658</td>\n",
       "    </tr>\n",
       "    <tr>\n",
       "      <th>5133843</th>\n",
       "      <td>19.99</td>\n",
       "      <td>16.658</td>\n",
       "    </tr>\n",
       "    <tr>\n",
       "      <th>5133892</th>\n",
       "      <td>19.99</td>\n",
       "      <td>16.658</td>\n",
       "    </tr>\n",
       "    <tr>\n",
       "      <th>5133893</th>\n",
       "      <td>19.99</td>\n",
       "      <td>16.658</td>\n",
       "    </tr>\n",
       "    <tr>\n",
       "      <th>5133936</th>\n",
       "      <td>19.99</td>\n",
       "      <td>16.658</td>\n",
       "    </tr>\n",
       "    <tr>\n",
       "      <th>5133937</th>\n",
       "      <td>19.99</td>\n",
       "      <td>16.658</td>\n",
       "    </tr>\n",
       "    <tr>\n",
       "      <th>5134006</th>\n",
       "      <td>19.99</td>\n",
       "      <td>16.658</td>\n",
       "    </tr>\n",
       "    <tr>\n",
       "      <th>5134043</th>\n",
       "      <td>19.99</td>\n",
       "      <td>16.658</td>\n",
       "    </tr>\n",
       "    <tr>\n",
       "      <th>5134086</th>\n",
       "      <td>19.99</td>\n",
       "      <td>16.658</td>\n",
       "    </tr>\n",
       "    <tr>\n",
       "      <th>5134087</th>\n",
       "      <td>19.99</td>\n",
       "      <td>16.658</td>\n",
       "    </tr>\n",
       "    <tr>\n",
       "      <th>5134132</th>\n",
       "      <td>19.99</td>\n",
       "      <td>16.658</td>\n",
       "    </tr>\n",
       "    <tr>\n",
       "      <th>5134179</th>\n",
       "      <td>19.99</td>\n",
       "      <td>16.658</td>\n",
       "    </tr>\n",
       "    <tr>\n",
       "      <th>5134180</th>\n",
       "      <td>19.99</td>\n",
       "      <td>16.658</td>\n",
       "    </tr>\n",
       "    <tr>\n",
       "      <th>5134181</th>\n",
       "      <td>19.99</td>\n",
       "      <td>16.658</td>\n",
       "    </tr>\n",
       "    <tr>\n",
       "      <th>5134182</th>\n",
       "      <td>19.99</td>\n",
       "      <td>16.658</td>\n",
       "    </tr>\n",
       "    <tr>\n",
       "      <th>5136897</th>\n",
       "      <td>19.99</td>\n",
       "      <td>16.658</td>\n",
       "    </tr>\n",
       "    <tr>\n",
       "      <th>5138697</th>\n",
       "      <td>19.99</td>\n",
       "      <td>16.658</td>\n",
       "    </tr>\n",
       "    <tr>\n",
       "      <th>5139678</th>\n",
       "      <td>19.99</td>\n",
       "      <td>16.658</td>\n",
       "    </tr>\n",
       "    <tr>\n",
       "      <th>5140039</th>\n",
       "      <td>19.99</td>\n",
       "      <td>16.658</td>\n",
       "    </tr>\n",
       "    <tr>\n",
       "      <th>5143491</th>\n",
       "      <td>19.99</td>\n",
       "      <td>16.658</td>\n",
       "    </tr>\n",
       "    <tr>\n",
       "      <th>5143891</th>\n",
       "      <td>19.99</td>\n",
       "      <td>16.658</td>\n",
       "    </tr>\n",
       "    <tr>\n",
       "      <th>5148322</th>\n",
       "      <td>19.99</td>\n",
       "      <td>16.658</td>\n",
       "    </tr>\n",
       "  </tbody>\n",
       "</table>\n",
       "<p>21987 rows × 2 columns</p>\n",
       "</div>"
      ],
      "text/plain": [
       "         total_gross_sales  total_net_sales\n",
       "2457                 19.99           16.658\n",
       "6303                 19.99           16.658\n",
       "6829                 19.99           16.658\n",
       "8852                 19.99           16.658\n",
       "8864                 19.99           16.658\n",
       "9367                 19.99           16.658\n",
       "11462                19.99           16.658\n",
       "11664                19.99           16.658\n",
       "13491                19.99           16.658\n",
       "14333                19.99           16.658\n",
       "14334                19.99           16.658\n",
       "14552                19.99           16.658\n",
       "16561                19.99           16.658\n",
       "17487                19.99           16.658\n",
       "19308                19.99           16.658\n",
       "19956                19.99           16.658\n",
       "20179                19.99           16.658\n",
       "20180                19.99           16.658\n",
       "20798                19.99           16.658\n",
       "20799                19.99           16.658\n",
       "20801                19.99           16.658\n",
       "20802                19.99           16.658\n",
       "21100                19.99           16.658\n",
       "21101                19.99           16.658\n",
       "21102                19.99           16.658\n",
       "21406                19.99           16.658\n",
       "21572                19.99           16.658\n",
       "21573                19.99           16.658\n",
       "21574                19.99           16.658\n",
       "21575                19.99           16.658\n",
       "...                    ...              ...\n",
       "5133279              19.99           16.658\n",
       "5133394              19.99           16.658\n",
       "5133467              19.99           16.658\n",
       "5133649              19.99           16.658\n",
       "5133698              19.99           16.658\n",
       "5133742              19.99           16.658\n",
       "5133807              19.99           16.658\n",
       "5133808              19.99           16.658\n",
       "5133842              19.99           16.658\n",
       "5133843              19.99           16.658\n",
       "5133892              19.99           16.658\n",
       "5133893              19.99           16.658\n",
       "5133936              19.99           16.658\n",
       "5133937              19.99           16.658\n",
       "5134006              19.99           16.658\n",
       "5134043              19.99           16.658\n",
       "5134086              19.99           16.658\n",
       "5134087              19.99           16.658\n",
       "5134132              19.99           16.658\n",
       "5134179              19.99           16.658\n",
       "5134180              19.99           16.658\n",
       "5134181              19.99           16.658\n",
       "5134182              19.99           16.658\n",
       "5136897              19.99           16.658\n",
       "5138697              19.99           16.658\n",
       "5139678              19.99           16.658\n",
       "5140039              19.99           16.658\n",
       "5143491              19.99           16.658\n",
       "5143891              19.99           16.658\n",
       "5148322              19.99           16.658\n",
       "\n",
       "[21987 rows x 2 columns]"
      ]
     },
     "execution_count": 55,
     "metadata": {},
     "output_type": "execute_result"
    }
   ],
   "source": [
    "merged_df_40012[merged_df_40012.total_gross_sales == 19.99]"
   ]
  },
  {
   "cell_type": "markdown",
   "metadata": {},
   "source": [
    "We can basically say that these two are the same thing."
   ]
  },
  {
   "cell_type": "markdown",
   "metadata": {},
   "source": [
    "Of course there are so many different types of values, so there is an assumption that every different price leads to a certain net sales, and there should be further analysis."
   ]
  },
  {
   "cell_type": "code",
   "execution_count": 56,
   "metadata": {
    "collapsed": true
   },
   "outputs": [],
   "source": [
    "# total_service_charge\n",
    "# total_tip\n",
    "# total_discount\n",
    "# total_cost\n",
    "# total_stock_cost\n",
    "# total_tesco_rebate"
   ]
  },
  {
   "cell_type": "code",
   "execution_count": 57,
   "metadata": {
    "collapsed": false
   },
   "outputs": [
    {
     "data": {
      "text/plain": [
       "NaN        5037478\n",
       " 30.00        3313\n",
       " 50.00        3207\n",
       " 40.00        3053\n",
       " 20.00        2853\n",
       " 25.00        1474\n",
       " 60.00        1194\n",
       " 45.00         652\n",
       " 35.00         605\n",
       " 100.00        598\n",
       " 10.00         561\n",
       " 55.00         519\n",
       " 15.00         516\n",
       " 80.00         487\n",
       " 70.00         465\n",
       " 75.00         423\n",
       " 65.00         357\n",
       " 0.00          258\n",
       " 90.00         211\n",
       " 85.00         186\n",
       " 150.00        131\n",
       " 120.00        117\n",
       " 5.00          110\n",
       " 95.00         104\n",
       " 105.00         89\n",
       " 110.00         88\n",
       " 13.48          81\n",
       " 125.00         76\n",
       " 12.75          73\n",
       " 11.78          73\n",
       "            ...   \n",
       " 47.96           1\n",
       " 47.79           1\n",
       " 41.26           1\n",
       " 56.20           1\n",
       " 47.71           1\n",
       " 46.26           1\n",
       " 56.80           1\n",
       " 46.76           1\n",
       " 47.99           1\n",
       " 59.05           1\n",
       " 34.47           1\n",
       " 34.53           1\n",
       " 44.99           1\n",
       " 1.16            1\n",
       " 44.51           1\n",
       " 59.30           1\n",
       " 44.74           1\n",
       " 1.09            1\n",
       " 66.79           1\n",
       " 47.24           1\n",
       " 37.78           1\n",
       " 66.04           1\n",
       " 66.21           1\n",
       " 47.74           1\n",
       "-10.89           1\n",
       "-9.58            1\n",
       " 122.03          1\n",
       " 67.71           1\n",
       " 45.46           1\n",
       " 59.49           1\n",
       "Name: total_service_charge, dtype: int64"
      ]
     },
     "execution_count": 57,
     "metadata": {},
     "output_type": "execute_result"
    }
   ],
   "source": [
    "merged_df.total_service_charge.value_counts(dropna = False)"
   ]
  },
  {
   "cell_type": "markdown",
   "metadata": {},
   "source": [
    "Here the NaN number is so dominant, and must be eleminated."
   ]
  },
  {
   "cell_type": "code",
   "execution_count": 58,
   "metadata": {
    "collapsed": false
   },
   "outputs": [
    {
     "data": {
      "text/plain": [
       "5942"
      ]
     },
     "execution_count": 58,
     "metadata": {},
     "output_type": "execute_result"
    }
   ],
   "source": [
    "len(merged_df.total_service_charge.value_counts(dropna = False).index)"
   ]
  },
  {
   "cell_type": "code",
   "execution_count": 59,
   "metadata": {
    "collapsed": false
   },
   "outputs": [
    {
     "data": {
      "text/plain": [
       " 0.00      2253502\n",
       "NaN        1839765\n",
       " 5.00       176215\n",
       " 3.00       136138\n",
       " 2.00       112666\n",
       " 4.00        97052\n",
       " 10.00       32477\n",
       " 6.00        30793\n",
       " 2.50        26307\n",
       " 1.00        25090\n",
       " 7.00        20673\n",
       " 3.50        18964\n",
       " 8.00        16011\n",
       " 1.50        11132\n",
       " 4.50         8541\n",
       " 9.00         4775\n",
       " 15.00        4768\n",
       " 2.22         4637\n",
       " 3.33         4287\n",
       " 5.55         4073\n",
       " 12.00        3342\n",
       " 7.50         3161\n",
       " 5.50         3045\n",
       " 6.50         2817\n",
       " 4.44         2124\n",
       " 3.60         2081\n",
       " 1.11         2063\n",
       " 2.60         2019\n",
       " 20.00        1970\n",
       " 3.20         1943\n",
       "            ...   \n",
       " 60.93           1\n",
       " 24.65           1\n",
       " 24.08           1\n",
       " 24.42           1\n",
       " 41.51           1\n",
       " 24.33           1\n",
       " 90.00           1\n",
       " 27.15           1\n",
       "-114.44          1\n",
       " 23.98           1\n",
       " 28.42           1\n",
       " 26.92           1\n",
       " 30.10           1\n",
       " 33.64           1\n",
       " 28.58           1\n",
       " 75.50           1\n",
       " 49.54           1\n",
       " 78.00           1\n",
       " 48.04           1\n",
       " 48.93           1\n",
       " 22.77           1\n",
       " 22.73           1\n",
       " 93.74           1\n",
       " 75.39           1\n",
       " 23.48           1\n",
       "-1.84            1\n",
       " 82.00           1\n",
       " 25.90           1\n",
       " 26.58           1\n",
       "-57.83           1\n",
       "Name: total_tip, dtype: int64"
      ]
     },
     "execution_count": 59,
     "metadata": {},
     "output_type": "execute_result"
    }
   ],
   "source": [
    "merged_df.total_tip.value_counts(dropna = False)"
   ]
  },
  {
   "cell_type": "markdown",
   "metadata": {},
   "source": [
    "This might not be a very good attribute as there is not so many zero values, and some of them are negative."
   ]
  },
  {
   "cell_type": "code",
   "execution_count": 60,
   "metadata": {
    "collapsed": false
   },
   "outputs": [
    {
     "data": {
      "text/plain": [
       "2761"
      ]
     },
     "execution_count": 60,
     "metadata": {},
     "output_type": "execute_result"
    }
   ],
   "source": [
    "len(merged_df.total_tip.value_counts(dropna = False).index)"
   ]
  },
  {
   "cell_type": "code",
   "execution_count": 61,
   "metadata": {
    "collapsed": false
   },
   "outputs": [
    {
     "data": {
      "text/plain": [
       "NaN        3072378\n",
       "-20.00      106321\n",
       "-40.00       93929\n",
       "-30.00       62806\n",
       "-60.00       32782\n",
       "-50.00       27985\n",
       "-10.99       18751\n",
       "-24.99       18310\n",
       "-80.00       16565\n",
       "-11.49       15715\n",
       "-10.00       15514\n",
       "-25.49       14663\n",
       "-11.00       14338\n",
       "-5.50        11018\n",
       "-11.69       10950\n",
       "-10.69       10702\n",
       "-10.29       10600\n",
       "-70.00        9802\n",
       "-7.99         8803\n",
       "-11.99        8620\n",
       "-9.99         8592\n",
       "-26.49        8553\n",
       "-10.89        7682\n",
       "-11.89        7512\n",
       "-100.00       7328\n",
       "-10.59        7251\n",
       "-9.20         6659\n",
       "-25.99        6607\n",
       "-9.36         6580\n",
       "-12.19        6437\n",
       "            ...   \n",
       " 11.97           1\n",
       "-358.91          1\n",
       "-143.40          1\n",
       "-106.82          1\n",
       "-134.34          1\n",
       "-108.32          1\n",
       "-139.59          1\n",
       "-96.65           1\n",
       "-132.41          1\n",
       "-141.65          1\n",
       "-132.91          1\n",
       "-106.43          1\n",
       "-133.41          1\n",
       "-141.10          1\n",
       "-133.66          1\n",
       "-134.41          1\n",
       "-116.53          1\n",
       "-129.34          1\n",
       "-135.16          1\n",
       "-135.59          1\n",
       "-135.34          1\n",
       "-107.32          1\n",
       "-128.84          1\n",
       " 9.09            1\n",
       " 25.99           1\n",
       "-128.59          1\n",
       "-128.66          1\n",
       "-128.09          1\n",
       "-143.90          1\n",
       "-132.50          1\n",
       "Name: total_discount, dtype: int64"
      ]
     },
     "execution_count": 61,
     "metadata": {},
     "output_type": "execute_result"
    }
   ],
   "source": [
    "merged_df.total_discount.value_counts(dropna = False)"
   ]
  },
  {
   "cell_type": "code",
   "execution_count": 62,
   "metadata": {
    "collapsed": false
   },
   "outputs": [
    {
     "data": {
      "text/plain": [
       "13555"
      ]
     },
     "execution_count": 62,
     "metadata": {},
     "output_type": "execute_result"
    }
   ],
   "source": [
    "len(merged_df.total_discount.value_counts(dropna = False).index)"
   ]
  },
  {
   "cell_type": "code",
   "execution_count": 63,
   "metadata": {
    "collapsed": false
   },
   "outputs": [
    {
     "data": {
      "text/plain": [
       " 0.00      236620\n",
       "-30.00      32983\n",
       "-19.99      22257\n",
       "-40.00      21861\n",
       "-50.00      19197\n",
       "-60.00      14442\n",
       "-45.00      10648\n",
       "-35.00      10286\n",
       "-20.00      10058\n",
       "-25.00       8548\n",
       "-70.00       7852\n",
       "-55.00       7710\n",
       "-5.18        7290\n",
       "-80.00       6631\n",
       "-2.59        5994\n",
       "-36.00       5630\n",
       "-39.90       5347\n",
       "-100.00      5287\n",
       "-5.58        5140\n",
       "-9.99        4928\n",
       "-10.99       4911\n",
       "-4.99        4847\n",
       "-34.00       4833\n",
       "-90.00       4777\n",
       "-38.00       4493\n",
       "-65.00       4421\n",
       "-28.00       4392\n",
       "-2.79        4357\n",
       "-32.00       4350\n",
       "-29.90       4224\n",
       "            ...  \n",
       "-304.43         1\n",
       " 42.75          1\n",
       "-297.43         1\n",
       "-297.07         1\n",
       "-300.57         1\n",
       "-288.57         1\n",
       "-288.82         1\n",
       "-289.93         1\n",
       "-288.07         1\n",
       " 5.35           1\n",
       "-302.93         1\n",
       "-282.40         1\n",
       "-301.82         1\n",
       "-796.54         1\n",
       " 56.94          1\n",
       "-300.68         1\n",
       "-300.07         1\n",
       "-297.82         1\n",
       "-301.68         1\n",
       "-299.57         1\n",
       "-298.93         1\n",
       "-298.68         1\n",
       "-299.18         1\n",
       "-298.82         1\n",
       "-299.93         1\n",
       "-281.85         1\n",
       "-298.32         1\n",
       "-297.57         1\n",
       " 30.12          1\n",
       "-458.50         1\n",
       "Name: total_cost, dtype: int64"
      ]
     },
     "execution_count": 63,
     "metadata": {},
     "output_type": "execute_result"
    }
   ],
   "source": [
    "merged_df.total_cost.value_counts(dropna = False)"
   ]
  },
  {
   "cell_type": "code",
   "execution_count": 64,
   "metadata": {
    "collapsed": false
   },
   "outputs": [
    {
     "data": {
      "text/plain": [
       "41568"
      ]
     },
     "execution_count": 64,
     "metadata": {},
     "output_type": "execute_result"
    }
   ],
   "source": [
    "len(merged_df.total_cost.value_counts(dropna = False).index)"
   ]
  },
  {
   "cell_type": "code",
   "execution_count": 65,
   "metadata": {
    "collapsed": false
   },
   "outputs": [
    {
     "data": {
      "text/plain": [
       "NaN         241501\n",
       " 0.000      120479\n",
       " 1.205        6681\n",
       " 1.030        3720\n",
       " 2.411        3107\n",
       " 0.890        3033\n",
       " 4.509        2629\n",
       " 1.237        2230\n",
       " 0.467        2086\n",
       " 1.226        2008\n",
       " 0.466        1895\n",
       " 1.209        1843\n",
       " 1.013        1595\n",
       " 2.061        1522\n",
       " 1.120        1440\n",
       " 3.360        1407\n",
       " 0.667        1406\n",
       " 0.602        1326\n",
       " 0.934        1271\n",
       " 2.453        1198\n",
       " 3.039        1186\n",
       " 0.741        1141\n",
       " 4.615        1020\n",
       " 0.461        1008\n",
       " 3.616         980\n",
       " 0.933         967\n",
       " 0.144         958\n",
       " 0.168         953\n",
       " 1.672         898\n",
       " 0.289         886\n",
       "             ...  \n",
       " 101.920         1\n",
       " 74.486          1\n",
       " 74.014          1\n",
       " 45.478          1\n",
       " 65.674          1\n",
       " 37.195          1\n",
       " 76.207          1\n",
       " 62.355          1\n",
       " 74.139          1\n",
       " 37.875          1\n",
       " 45.658          1\n",
       " 56.502          1\n",
       " 74.611          1\n",
       " 41.737          1\n",
       " 56.377          1\n",
       " 62.980          1\n",
       " 93.857          1\n",
       " 78.293          1\n",
       " 41.219          1\n",
       " 45.783          1\n",
       " 69.970          1\n",
       " 64.299          1\n",
       " 60.640          1\n",
       " 45.647          1\n",
       " 45.603          1\n",
       " 50.503          1\n",
       " 37.625          1\n",
       " 53.809          1\n",
       " 41.513          1\n",
       " 55.666          1\n",
       "Name: total_stock_cost, dtype: int64"
      ]
     },
     "execution_count": 65,
     "metadata": {},
     "output_type": "execute_result"
    }
   ],
   "source": [
    "merged_df.total_stock_cost.value_counts(dropna = False)"
   ]
  },
  {
   "cell_type": "code",
   "execution_count": 66,
   "metadata": {
    "collapsed": false
   },
   "outputs": [
    {
     "data": {
      "text/plain": [
       "60389"
      ]
     },
     "execution_count": 66,
     "metadata": {},
     "output_type": "execute_result"
    }
   ],
   "source": [
    "len(merged_df.total_stock_cost.value_counts(dropna = False).index)"
   ]
  },
  {
   "cell_type": "code",
   "execution_count": 67,
   "metadata": {
    "collapsed": false
   },
   "outputs": [
    {
     "data": {
      "text/plain": [
       "NaN        4683929\n",
       " 10.01       60283\n",
       " 10.00       29197\n",
       " 20.03       26979\n",
       " 15.02       25842\n",
       " 20.02       25410\n",
       " 20.04       20229\n",
       " 15.03       15518\n",
       " 10.02       13837\n",
       " 15.01        8287\n",
       " 20.05        7499\n",
       " 15.04        7287\n",
       " 20.01        6094\n",
       " 30.06        5951\n",
       " 5.01         5630\n",
       " 25.06        5311\n",
       " 25.05        5226\n",
       " 30.07        5014\n",
       " 30.05        4689\n",
       " 30.08        4175\n",
       " 25.07        4110\n",
       " 5.00         4049\n",
       " 20.06        3892\n",
       " 25.04        3796\n",
       " 30.04        3244\n",
       " 30.09        2978\n",
       " 25.08        2915\n",
       " 15.05        2279\n",
       " 10.03        2236\n",
       " 20.00        2030\n",
       "            ...   \n",
       " 65.67           1\n",
       " 65.92           1\n",
       " 65.58           1\n",
       " 136.05          1\n",
       " 136.30          1\n",
       " 137.55          1\n",
       " 64.83           1\n",
       " 64.92           1\n",
       " 128.70          1\n",
       " 56.74           1\n",
       " 56.99           1\n",
       " 56.76           1\n",
       " 63.24           1\n",
       " 62.51           1\n",
       " 88.08           1\n",
       " 6.05            1\n",
       " 62.49           1\n",
       " 33.23           1\n",
       " 62.01           1\n",
       " 57.76           1\n",
       " 91.08           1\n",
       " 57.99           1\n",
       " 90.83           1\n",
       " 90.17           1\n",
       " 57.26           1\n",
       " 57.49           1\n",
       " 57.01           1\n",
       " 58.00           1\n",
       " 135.80          1\n",
       " 85.65           1\n",
       "Name: total_tesco_rebate, dtype: int64"
      ]
     },
     "execution_count": 67,
     "metadata": {},
     "output_type": "execute_result"
    }
   ],
   "source": [
    "total_tesco_rebate_count = merged_df.total_tesco_rebate.value_counts(dropna = False)\n",
    "total_tesco_rebate_count"
   ]
  },
  {
   "cell_type": "code",
   "execution_count": 68,
   "metadata": {
    "collapsed": false
   },
   "outputs": [
    {
     "data": {
      "text/plain": [
       "6885"
      ]
     },
     "execution_count": 68,
     "metadata": {},
     "output_type": "execute_result"
    }
   ],
   "source": [
    "len(total_tesco_rebate_count.index)"
   ]
  },
  {
   "cell_type": "markdown",
   "metadata": {},
   "source": [
    "Note that the cost and other stuff, by common sense, do not affect the result that much. But we will see."
   ]
  },
  {
   "cell_type": "code",
   "execution_count": 69,
   "metadata": {
    "collapsed": true
   },
   "outputs": [],
   "source": [
    "# post_code, town, county, country, location\n",
    "# these are geographical information, and might affect a lot, so we will see."
   ]
  },
  {
   "cell_type": "code",
   "execution_count": 71,
   "metadata": {
    "collapsed": false
   },
   "outputs": [
    {
     "data": {
      "text/plain": [
       "N1C 4AH      93219\n",
       "LN1 1YX      74334\n",
       "SG1 2UA      47315\n",
       "WC2N 5BW     45855\n",
       "NW1 2BD      45078\n",
       "WC2N 4BF     43459\n",
       "RM20 2ZN     42041\n",
       "CM7 8YH      41983\n",
       "AB11 5RG     41069\n",
       "CT1 2BA      35876\n",
       "EH1 1SB      32363\n",
       "SW1W 9SJ     32036\n",
       "BA1 1SX      31787\n",
       "CB2 1UJ      31761\n",
       "HA9 0FD      31307\n",
       "BH1 2BZ      31284\n",
       "G53 6AG      30943\n",
       "PO15 7PD     30424\n",
       "W1B 5DL      30148\n",
       "SW1Y 4BP     29702\n",
       "MK1 1ST      29323\n",
       "HP2 4JS      29279\n",
       "CH65 9HD     29223\n",
       "CF10 2EF     29150\n",
       "NaN          29123\n",
       "PL1 3GE      29020\n",
       "CM1 1GD      28583\n",
       "YO32 9AE     28526\n",
       "HU2 8LN      28456\n",
       "M50 2HF      28456\n",
       "             ...  \n",
       "EN5 5TD      12538\n",
       "PL25 5AZ     12463\n",
       "TA6 3BY      12399\n",
       "CA1 1DN      12361\n",
       "DL1 5AD      12340\n",
       "L37 3NW      12235\n",
       "HA6 2PY      12168\n",
       "KT19 8DA     12044\n",
       "B13 8DD      11980\n",
       "CO10 2ET     11962\n",
       "TR7 1DN      11854\n",
       "NR19 2AP     11698\n",
       "GL20 5AB     11396\n",
       "GU34 1HD     11335\n",
       "SR7 9HU      10878\n",
       "SN15 1ES     10767\n",
       "TR11 3QA     10681\n",
       "FY6 7DF      10549\n",
       "RG14 5DH     10226\n",
       " HU17 8AJ     9860\n",
       "CO9 2AR       9859\n",
       "DT1 1UJ       9577\n",
       "DL9 3BA       9405\n",
       "BA20 1EG      9166\n",
       "RG5 3JP       9077\n",
       "GU29 9NQ      8502\n",
       "BH2 5DD       8135\n",
       "DE1 1BU       7425\n",
       "B75 5BP       7285\n",
       "BT12 6HU      5235\n",
       "Name: post_code, dtype: int64"
      ]
     },
     "execution_count": 71,
     "metadata": {},
     "output_type": "execute_result"
    }
   ],
   "source": [
    "merged_df.post_code.value_counts(dropna = False)"
   ]
  },
  {
   "cell_type": "code",
   "execution_count": 70,
   "metadata": {
    "collapsed": false
   },
   "outputs": [
    {
     "data": {
      "text/plain": [
       "258"
      ]
     },
     "execution_count": 70,
     "metadata": {},
     "output_type": "execute_result"
    }
   ],
   "source": [
    "len(merged_df.post_code.value_counts(dropna = False).index)"
   ]
  },
  {
   "cell_type": "code",
   "execution_count": 72,
   "metadata": {
    "collapsed": false
   },
   "outputs": [
    {
     "data": {
      "text/plain": [
       "London              342163\n",
       "NaN                 171110\n",
       "Glasgow             102310\n",
       "Lincoln              74334\n",
       "Stevenage            60588\n",
       "York                 56772\n",
       "Milton Keynes        55198\n",
       "Chester              54502\n",
       "Chelmsford           47491\n",
       "Edinburgh            45179\n",
       "Cardiff              44993\n",
       "Bristol              44451\n",
       "Grays                42041\n",
       "Braintree            41983\n",
       "Leeds                41824\n",
       "Nottingham           41401\n",
       "Aberdeen             41069\n",
       "Bournemouth          39419\n",
       "Newport              38579\n",
       "Cheltenham           36373\n",
       "Manchester           35914\n",
       "Canterbury           35876\n",
       "Leicester            32196\n",
       "Norwich              31836\n",
       "Bath                 31787\n",
       "Birmingham           31784\n",
       "Cambridge            31761\n",
       "Wembley              31307\n",
       "Sheffield            30542\n",
       "Fareham              30424\n",
       "                     ...  \n",
       "Lytham St. Annes     12795\n",
       "Farnham              12740\n",
       "Bromsgrove           12682\n",
       "Gloucester           12585\n",
       "St Austell           12463\n",
       "Bridgwater           12399\n",
       "Carlisle             12361\n",
       "Darlington           12340\n",
       "Formby               12235\n",
       "Northwood            12168\n",
       "Epsom                12044\n",
       "Sudbury              11962\n",
       "Newquay              11854\n",
       "East Dereham         11698\n",
       "Tewkesbury           11396\n",
       "Alton                11335\n",
       "Murton               10878\n",
       "Chippenham           10767\n",
       "Falmouth             10681\n",
       "Poulton-le-Fylde     10549\n",
       "Newbury              10226\n",
       "Beverley              9860\n",
       "Halstead              9859\n",
       "Dorchester            9577\n",
       "Catterick             9405\n",
       "Yeovil                9166\n",
       "Woodley               9077\n",
       "Midhurst              8502\n",
       "Derby                 7425\n",
       "Sutton Coldfield      7285\n",
       "Name: town, dtype: int64"
      ]
     },
     "execution_count": 72,
     "metadata": {},
     "output_type": "execute_result"
    }
   ],
   "source": [
    "merged_df.town.value_counts(dropna = False)"
   ]
  },
  {
   "cell_type": "code",
   "execution_count": 73,
   "metadata": {
    "collapsed": false
   },
   "outputs": [
    {
     "data": {
      "text/plain": [
       "221"
      ]
     },
     "execution_count": 73,
     "metadata": {},
     "output_type": "execute_result"
    }
   ],
   "source": [
    "len(merged_df.town.value_counts(dropna = False).index)"
   ]
  },
  {
   "cell_type": "code",
   "execution_count": 74,
   "metadata": {
    "collapsed": false
   },
   "outputs": [
    {
     "data": {
      "text/plain": [
       "NaN                 1799915\n",
       "London               427914\n",
       "Essex                303684\n",
       "Hertfordshire        221050\n",
       "Surrey               203959\n",
       "Kent                 171173\n",
       "Scotland             168741\n",
       "Hampshire            164466\n",
       "Suffolk              150491\n",
       "Middlesex            141515\n",
       "Yorkshire            137690\n",
       "Lincolnshire         128255\n",
       "Dorset               107063\n",
       "Devon                103064\n",
       "Sussex                93771\n",
       "Cambridgeshire        76999\n",
       "Berkshire             72005\n",
       "Oxfordshire           62514\n",
       "Norfolk               59612\n",
       "Buckinghamshire       51267\n",
       "Warwickshire          49605\n",
       "Gloucestershire       48958\n",
       "Wales                 44993\n",
       "Somerset              37049\n",
       "East Sussex           34826\n",
       "Leicestershire        31737\n",
       "Cheshire              29223\n",
       "Manchester            28456\n",
       "Somerset              26352\n",
       "West Sussex           26062\n",
       "Northamptonshire      24866\n",
       "NottinghamShire       24382\n",
       "Wiltshire             23462\n",
       "Merseyside            19573\n",
       "Nottinghamshire       17019\n",
       "Shropshire            16546\n",
       "Worcestershire        12682\n",
       "Cornwall              10681\n",
       "Name: county, dtype: int64"
      ]
     },
     "execution_count": 74,
     "metadata": {},
     "output_type": "execute_result"
    }
   ],
   "source": [
    "merged_df.county.value_counts(dropna = False)"
   ]
  },
  {
   "cell_type": "code",
   "execution_count": 75,
   "metadata": {
    "collapsed": true
   },
   "outputs": [],
   "source": [
    "# Maybe only several of geological types is useful"
   ]
  },
  {
   "cell_type": "code",
   "execution_count": 76,
   "metadata": {
    "collapsed": false,
    "scrolled": true
   },
   "outputs": [
    {
     "data": {
      "text/plain": [
       "42143       456541\n",
       "31226       272630\n",
       "6232        258782\n",
       "800078      246483\n",
       "11041       226058\n",
       "195         222726\n",
       "13603       218824\n",
       "31140       218158\n",
       "800015      211669\n",
       "14544       210467\n",
       "9661        208287\n",
       "12424       206979\n",
       "19324       199845\n",
       "8175        199564\n",
       "13868       195258\n",
       "9961        191235\n",
       "4740        186366\n",
       "7127        185198\n",
       "4389        182910\n",
       "10336       174711\n",
       "800061      174061\n",
       "12367       164414\n",
       "7025        130078\n",
       "800003      104720\n",
       "IRE10001     55966\n",
       "999041       23562\n",
       "999059       18843\n",
       "NaN           7285\n",
       "Name: region, dtype: int64"
      ]
     },
     "execution_count": 76,
     "metadata": {},
     "output_type": "execute_result"
    }
   ],
   "source": [
    "# region\n",
    "merged_df.region.value_counts(dropna = False)"
   ]
  },
  {
   "cell_type": "markdown",
   "metadata": {},
   "source": [
    "'Rating' might be a decisive factor."
   ]
  },
  {
   "cell_type": "code",
   "execution_count": 77,
   "metadata": {
    "collapsed": false
   },
   "outputs": [
    {
     "data": {
      "text/plain": [
       "C      1465942\n",
       "D      1428138\n",
       "B       738787\n",
       "E       654105\n",
       "A       400019\n",
       "NaN     361081\n",
       "F       103548\n",
       "Name: rating, dtype: int64"
      ]
     },
     "execution_count": 77,
     "metadata": {},
     "output_type": "execute_result"
    }
   ],
   "source": [
    "# rating\n",
    "merged_df.rating.value_counts(dropna = False)"
   ]
  },
  {
   "cell_type": "code",
   "execution_count": 78,
   "metadata": {
    "collapsed": false
   },
   "outputs": [
    {
     "data": {
      "text/plain": [
       "Prezzo Ltd                        5122497\n",
       "Prezzo Restaurants Ireland Ltd      29123\n",
       "Name: company, dtype: int64"
      ]
     },
     "execution_count": 78,
     "metadata": {},
     "output_type": "execute_result"
    }
   ],
   "source": [
    "# company\n",
    "merged_df.company.value_counts()"
   ]
  },
  {
   "cell_type": "markdown",
   "metadata": {},
   "source": [
    "'Company' reveals 'region'."
   ]
  },
  {
   "cell_type": "code",
   "execution_count": 79,
   "metadata": {
    "collapsed": false
   },
   "outputs": [
    {
     "data": {
      "text/plain": [
       "74334     NaN\n",
       "74335     NaN\n",
       "74336     NaN\n",
       "74337     NaN\n",
       "74338     NaN\n",
       "74339     NaN\n",
       "74340     NaN\n",
       "74341     NaN\n",
       "74342     NaN\n",
       "74343     NaN\n",
       "74344     NaN\n",
       "74345     NaN\n",
       "74346     NaN\n",
       "74347     NaN\n",
       "74348     NaN\n",
       "74349     NaN\n",
       "74350     NaN\n",
       "74351     NaN\n",
       "74352     NaN\n",
       "74353     NaN\n",
       "74354     NaN\n",
       "74355     NaN\n",
       "74356     NaN\n",
       "74357     NaN\n",
       "74358     NaN\n",
       "74359     NaN\n",
       "74360     NaN\n",
       "74361     NaN\n",
       "74362     NaN\n",
       "74363     NaN\n",
       "         ... \n",
       "103427    NaN\n",
       "103428    NaN\n",
       "103429    NaN\n",
       "103430    NaN\n",
       "103431    NaN\n",
       "103432    NaN\n",
       "103433    NaN\n",
       "103434    NaN\n",
       "103435    NaN\n",
       "103436    NaN\n",
       "103437    NaN\n",
       "103438    NaN\n",
       "103439    NaN\n",
       "103440    NaN\n",
       "103441    NaN\n",
       "103442    NaN\n",
       "103443    NaN\n",
       "103444    NaN\n",
       "103445    NaN\n",
       "103446    NaN\n",
       "103447    NaN\n",
       "103448    NaN\n",
       "103449    NaN\n",
       "103450    NaN\n",
       "103451    NaN\n",
       "103452    NaN\n",
       "103453    NaN\n",
       "103454    NaN\n",
       "103455    NaN\n",
       "103456    NaN\n",
       "Name: county, dtype: object"
      ]
     },
     "execution_count": 79,
     "metadata": {},
     "output_type": "execute_result"
    }
   ],
   "source": [
    "country4_df.county"
   ]
  },
  {
   "cell_type": "code",
   "execution_count": 80,
   "metadata": {
    "collapsed": false
   },
   "outputs": [
    {
     "data": {
      "text/plain": [
       "Open    5151620\n",
       "Name: status, dtype: int64"
      ]
     },
     "execution_count": 80,
     "metadata": {},
     "output_type": "execute_result"
    }
   ],
   "source": [
    "# status\n",
    "merged_df.status.value_counts(dropna = False)"
   ]
  },
  {
   "cell_type": "markdown",
   "metadata": {},
   "source": [
    "OK, so 'status' is a useless feature."
   ]
  },
  {
   "cell_type": "code",
   "execution_count": 81,
   "metadata": {
    "collapsed": true
   },
   "outputs": [],
   "source": [
    "# total_seats\n",
    "# total_inside_seats\n",
    "# ground_seats\n",
    "# 1st_floor_seats\n",
    "# conservatory_seats\n",
    "# bar_seats\n",
    "# outside_seats"
   ]
  },
  {
   "cell_type": "code",
   "execution_count": 82,
   "metadata": {
    "collapsed": false
   },
   "outputs": [
    {
     "data": {
      "text/plain": [
       "NaN       196828\n",
       " 120.0    183481\n",
       " 106.0    163754\n",
       " 140.0    144678\n",
       " 116.0    134442\n",
       " 132.0    134018\n",
       " 110.0    131798\n",
       " 148.0    120215\n",
       " 100.0    118706\n",
       " 92.0     118288\n",
       " 124.0    116563\n",
       " 114.0    108500\n",
       " 166.0    108466\n",
       " 96.0     106195\n",
       " 98.0     105186\n",
       " 94.0     104655\n",
       " 108.0    101033\n",
       " 152.0     98988\n",
       " 112.0     94569\n",
       " 83.0      93219\n",
       " 102.0     86071\n",
       " 128.0     80065\n",
       " 158.0     75524\n",
       " 204.0     74334\n",
       " 138.0     73108\n",
       " 115.0     72365\n",
       " 88.0      66665\n",
       " 82.0      58994\n",
       " 90.0      58210\n",
       " 126.0     58063\n",
       "           ...  \n",
       " 133.0     28246\n",
       " 172.0     26653\n",
       " 176.0     26575\n",
       " 192.0     26062\n",
       " 174.0     23823\n",
       " 69.0      23599\n",
       " 167.0     22866\n",
       " 44.0      22811\n",
       " 137.0     22025\n",
       " 135.0     21580\n",
       " 129.0     21149\n",
       " 85.0      20554\n",
       " 119.0     19817\n",
       " 67.0      19606\n",
       " 184.0     18339\n",
       " 74.0      18225\n",
       " 125.0     18098\n",
       " 60.0      17865\n",
       " 165.0     17668\n",
       " 127.0     17322\n",
       " 146.0     16714\n",
       " 77.0      16599\n",
       " 105.0     15258\n",
       " 89.0      14712\n",
       " 131.0     14514\n",
       " 154.0     14493\n",
       " 162.0     13779\n",
       " 76.0      12946\n",
       " 75.0      12538\n",
       " 182.0     10681\n",
       "Name: total_seats, dtype: int64"
      ]
     },
     "execution_count": 82,
     "metadata": {},
     "output_type": "execute_result"
    }
   ],
   "source": [
    "merged_df.total_seats.value_counts(dropna = False)"
   ]
  },
  {
   "cell_type": "code",
   "execution_count": 83,
   "metadata": {
    "collapsed": false
   },
   "outputs": [
    {
     "data": {
      "text/plain": [
       "92"
      ]
     },
     "execution_count": 83,
     "metadata": {},
     "output_type": "execute_result"
    }
   ],
   "source": [
    "len(merged_df.total_seats.value_counts(dropna = False).index)"
   ]
  },
  {
   "cell_type": "code",
   "execution_count": 84,
   "metadata": {
    "collapsed": false
   },
   "outputs": [
    {
     "data": {
      "text/plain": [
       " 100.0    249683\n",
       " 90.0     233551\n",
       " 106.0    213832\n",
       "NaN       196828\n",
       " 98.0     192479\n",
       " 96.0     190974\n",
       " 108.0    164482\n",
       " 88.0     157694\n",
       " 102.0    156367\n",
       " 120.0    156231\n",
       " 92.0     155900\n",
       " 84.0     148168\n",
       " 82.0     147459\n",
       " 80.0     140603\n",
       " 110.0    126797\n",
       " 104.0    122838\n",
       " 36.0     116030\n",
       " 118.0    103642\n",
       " 116.0     98403\n",
       " 76.0      93052\n",
       " 70.0      87714\n",
       " 78.0      81243\n",
       " 0.0       80590\n",
       " 144.0     74334\n",
       " 95.0      72297\n",
       " 64.0      67331\n",
       " 87.0      63876\n",
       " 132.0     61853\n",
       " 99.0      61137\n",
       " 136.0     58711\n",
       "           ...  \n",
       " 140.0     43415\n",
       " 79.0      41205\n",
       " 86.0      40380\n",
       " 77.0      38174\n",
       " 105.0     33818\n",
       " 109.0     32364\n",
       " 51.0      31761\n",
       " 112.0     30162\n",
       " 75.0      28362\n",
       " 133.0     28246\n",
       " 172.0     26653\n",
       " 160.0     26575\n",
       " 69.0      23599\n",
       " 143.0     22866\n",
       " 137.0     22025\n",
       " 166.0     21371\n",
       " 85.0      20554\n",
       " 67.0      19606\n",
       " 30.0      18225\n",
       " 107.0     18124\n",
       " 164.0     17955\n",
       " 60.0      17865\n",
       " 130.0     17699\n",
       " 127.0     17322\n",
       " 57.0      16599\n",
       " 150.0     15852\n",
       " 103.0     15229\n",
       " 162.0     13779\n",
       " 63.0      13494\n",
       " 124.0     12795\n",
       "Name: total_inside_seats, dtype: int64"
      ]
     },
     "execution_count": 84,
     "metadata": {},
     "output_type": "execute_result"
    }
   ],
   "source": [
    "merged_df.total_inside_seats.value_counts(dropna = False)"
   ]
  },
  {
   "cell_type": "code",
   "execution_count": 85,
   "metadata": {
    "collapsed": false
   },
   "outputs": [
    {
     "data": {
      "text/plain": [
       "71"
      ]
     },
     "execution_count": 85,
     "metadata": {},
     "output_type": "execute_result"
    }
   ],
   "source": [
    "len(merged_df.total_inside_seats.value_counts(dropna = False).index)"
   ]
  },
  {
   "cell_type": "code",
   "execution_count": 86,
   "metadata": {
    "collapsed": false
   },
   "outputs": [
    {
     "data": {
      "text/plain": [
       " 0.0      1493423\n",
       "NaN        196828\n",
       " 100.0     186234\n",
       " 80.0      169399\n",
       " 90.0      162504\n",
       " 36.0      152062\n",
       " 106.0     123243\n",
       " 70.0      111151\n",
       " 98.0      107745\n",
       " 84.0       99193\n",
       " 88.0       96910\n",
       " 64.0       93393\n",
       " 102.0      87903\n",
       " 78.0       81243\n",
       " 128.0      74334\n",
       " 60.0       73305\n",
       " 110.0      72352\n",
       " 104.0      71726\n",
       " 120.0      69891\n",
       " 116.0      68602\n",
       " 68.0       66008\n",
       " 82.0       65548\n",
       " 62.0       64780\n",
       " 87.0       63876\n",
       " 76.0       54688\n",
       " 92.0       52004\n",
       " 69.0       51845\n",
       " 96.0       49338\n",
       " 99.0       46049\n",
       " 113.0      45855\n",
       "           ...   \n",
       " 40.0       39630\n",
       " 160.0      38810\n",
       " 54.0       36673\n",
       " 95.0       35613\n",
       " 86.0       34720\n",
       " 94.0       32272\n",
       " 51.0       31761\n",
       " 75.0       31523\n",
       " 56.0       29497\n",
       " 48.0       28757\n",
       " 108.0      28446\n",
       " 115.0      26653\n",
       " 146.0      23823\n",
       " 37.0       23462\n",
       " 130.0      21371\n",
       " 67.0       19606\n",
       " 74.0       18586\n",
       " 107.0      18124\n",
       " 63.0       18098\n",
       " 164.0      17955\n",
       " 57.0       16599\n",
       " 27.0       16113\n",
       " 150.0      15852\n",
       " 20.0       15088\n",
       " 47.0       14712\n",
       " 50.0       14514\n",
       " 162.0      13779\n",
       " 16.0       12816\n",
       " 136.0      11396\n",
       " 132.0      10681\n",
       "Name: ground_seats, dtype: int64"
      ]
     },
     "execution_count": 86,
     "metadata": {},
     "output_type": "execute_result"
    }
   ],
   "source": [
    "merged_df.ground_seats.value_counts(dropna = False)"
   ]
  },
  {
   "cell_type": "code",
   "execution_count": 111,
   "metadata": {
    "collapsed": false
   },
   "outputs": [
    {
     "data": {
      "text/plain": [
       "66"
      ]
     },
     "execution_count": 111,
     "metadata": {},
     "output_type": "execute_result"
    }
   ],
   "source": [
    "len(merged_df.ground_seats.value_counts(dropna = False).index)"
   ]
  },
  {
   "cell_type": "code",
   "execution_count": 113,
   "metadata": {
    "collapsed": false
   },
   "outputs": [
    {
     "data": {
      "text/plain": [
       "0.0      4079466\n",
       "40.0      157351\n",
       "48.0       56280\n",
       "28.0       52814\n",
       "50.0       50068\n",
       "57.0       49519\n",
       "44.0       39949\n",
       "32.0       38500\n",
       "52.0       37009\n",
       "56.0       34179\n",
       "20.0       32144\n",
       "76.0       30943\n",
       "106.0      29020\n",
       "64.0       28246\n",
       "68.0       26062\n",
       "126.0      25110\n",
       "36.0       21371\n",
       "8.0        21149\n",
       "46.0       19968\n",
       "42.0       18968\n",
       "55.0       17322\n",
       "60.0       15484\n",
       "54.0       15288\n",
       "75.0       15088\n",
       "30.0       14712\n",
       "65.0       14514\n",
       "34.0       14268\n",
       "Name: 1st_floor_seats, dtype: int64"
      ]
     },
     "execution_count": 113,
     "metadata": {},
     "output_type": "execute_result"
    }
   ],
   "source": [
    "merged_df['1st_floor_seats'].value_counts(dropna = False)"
   ]
  },
  {
   "cell_type": "code",
   "execution_count": 87,
   "metadata": {
    "collapsed": false
   },
   "outputs": [
    {
     "data": {
      "text/plain": [
       "28"
      ]
     },
     "execution_count": 87,
     "metadata": {},
     "output_type": "execute_result"
    }
   ],
   "source": [
    "len(merged_df['1st_floor_seats'].value_counts(dropna = False).index)"
   ]
  },
  {
   "cell_type": "code",
   "execution_count": 88,
   "metadata": {
    "collapsed": false
   },
   "outputs": [
    {
     "data": {
      "text/plain": [
       " 0.0     4868386\n",
       "NaN       196828\n",
       " 5.0       21149\n",
       " 8.0       18262\n",
       " 31.0      16113\n",
       " 18.0      15794\n",
       " 4.0       15088\n",
       "Name: conservatory_seats, dtype: int64"
      ]
     },
     "execution_count": 88,
     "metadata": {},
     "output_type": "execute_result"
    }
   ],
   "source": [
    "merged_df.conservatory_seats.value_counts(dropna = False)"
   ]
  },
  {
   "cell_type": "code",
   "execution_count": 116,
   "metadata": {
    "collapsed": false
   },
   "outputs": [
    {
     "data": {
      "text/plain": [
       "0.0     3779184\n",
       "6.0      225791\n",
       "4.0      217779\n",
       "10.0     139463\n",
       "5.0      134567\n",
       "16.0      74334\n",
       "14.0      74281\n",
       "8.0       52771\n",
       "32.0      43237\n",
       "12.0      31198\n",
       "9.0       24684\n",
       "2.0       23599\n",
       "15.0      22930\n",
       "72.0      20384\n",
       "27.0      19968\n",
       "1.0       19817\n",
       "30.0      18225\n",
       "68.0      17865\n",
       "13.0      14715\n",
       "Name: bar_seats, dtype: int64"
      ]
     },
     "execution_count": 116,
     "metadata": {},
     "output_type": "execute_result"
    }
   ],
   "source": [
    "merged_df.bar_seats.value_counts(dropna = False)"
   ]
  },
  {
   "cell_type": "code",
   "execution_count": 89,
   "metadata": {
    "collapsed": false
   },
   "outputs": [
    {
     "data": {
      "text/plain": [
       " 0.0     1829732\n",
       " 16.0     290079\n",
       " 24.0     284502\n",
       " 12.0     274838\n",
       " 20.0     246158\n",
       "NaN       196828\n",
       " 48.0     186939\n",
       " 60.0     185490\n",
       " 32.0     184652\n",
       " 36.0     146228\n",
       " 28.0     116917\n",
       " 40.0     110237\n",
       " 44.0     105706\n",
       " 38.0      99010\n",
       " 47.0      93219\n",
       " 30.0      90206\n",
       " 18.0      81386\n",
       " 10.0      67311\n",
       " 8.0       53095\n",
       " 64.0      52032\n",
       " 56.0      47883\n",
       " 39.0      47315\n",
       " 6.0       45552\n",
       " 22.0      44574\n",
       " 70.0      42772\n",
       " 25.0      35093\n",
       " 58.0      30943\n",
       " 62.0      21989\n",
       " 35.0      19817\n",
       " 42.0      19657\n",
       " 65.0      17668\n",
       " 26.0      16554\n",
       " 14.0      16043\n",
       " 68.0      15794\n",
       " 66.0      12740\n",
       " 34.0      11980\n",
       " 50.0      10681\n",
       "Name: outside_seats, dtype: int64"
      ]
     },
     "execution_count": 89,
     "metadata": {},
     "output_type": "execute_result"
    }
   ],
   "source": [
    "merged_df.outside_seats.value_counts(dropna = False)"
   ]
  },
  {
   "cell_type": "code",
   "execution_count": 90,
   "metadata": {
    "collapsed": false
   },
   "outputs": [
    {
     "data": {
      "text/plain": [
       "No         2845219\n",
       "NaN        1034002\n",
       "0           189601\n",
       "40          175866\n",
       "30          133667\n",
       "60          114157\n",
       "12           88629\n",
       "14           83620\n",
       "10           74419\n",
       "NO           64508\n",
       "20-40        41898\n",
       "135          30943\n",
       "25 - 50      30347\n",
       "15 - 30      29291\n",
       "15 - 50      29150\n",
       "15           24753\n",
       "8            21949\n",
       "24 & 24      20402\n",
       "24           19920\n",
       "20           19650\n",
       "50           18098\n",
       "20 - 30      16572\n",
       "25           15493\n",
       "50-70        15484\n",
       "28           13982\n",
       "Name: private_dining_covers, dtype: int64"
      ]
     },
     "execution_count": 90,
     "metadata": {},
     "output_type": "execute_result"
    }
   ],
   "source": [
    "# private_dining_covers\n",
    "merged_df.private_dining_covers.value_counts(dropna = False)"
   ]
  },
  {
   "cell_type": "code",
   "execution_count": 91,
   "metadata": {
    "collapsed": true
   },
   "outputs": [],
   "source": [
    "# All kinds of id, might not be that important"
   ]
  },
  {
   "cell_type": "code",
   "execution_count": 92,
   "metadata": {
    "collapsed": false
   },
   "outputs": [
    {
     "data": {
      "text/plain": [
       "NaN    5151620\n",
       "Name: exec_employee_id, dtype: int64"
      ]
     },
     "execution_count": 92,
     "metadata": {},
     "output_type": "execute_result"
    }
   ],
   "source": [
    "# exec_employee_id\n",
    "merged_df.exec_employee_id.value_counts(dropna = False)"
   ]
  },
  {
   "cell_type": "markdown",
   "metadata": {},
   "source": [
    "All void values"
   ]
  },
  {
   "cell_type": "code",
   "execution_count": 93,
   "metadata": {
    "collapsed": false
   },
   "outputs": [
    {
     "data": {
      "text/plain": [
       "999041.0    2998030\n",
       "626.0       2153590\n",
       "Name: ops_dir_employee_id, dtype: int64"
      ]
     },
     "execution_count": 93,
     "metadata": {},
     "output_type": "execute_result"
    }
   ],
   "source": [
    "# ops_dir_employee_id\n",
    "merged_df.ops_dir_employee_id.value_counts(dropna = False)"
   ]
  },
  {
   "cell_type": "code",
   "execution_count": 94,
   "metadata": {
    "collapsed": false
   },
   "outputs": [
    {
     "data": {
      "text/plain": [
       "42143       456541\n",
       "31226       272630\n",
       "6232        258782\n",
       "800078      246483\n",
       "11041       226058\n",
       "195         222726\n",
       "13603       218824\n",
       "31140       218158\n",
       "800015      211669\n",
       "14544       210467\n",
       "9661        208287\n",
       "12424       206979\n",
       "19324       199845\n",
       "8175        199564\n",
       "13868       195258\n",
       "9961        191235\n",
       "4740        186366\n",
       "7127        185198\n",
       "4389        182910\n",
       "10336       174711\n",
       "800061      174061\n",
       "12367       164414\n",
       "7025        130078\n",
       "800003      104720\n",
       "IRE10001     55966\n",
       "999041       23562\n",
       "999059       18843\n",
       "NaN           7285\n",
       "Name: ops_area_employee_id, dtype: int64"
      ]
     },
     "execution_count": 94,
     "metadata": {},
     "output_type": "execute_result"
    }
   ],
   "source": [
    "# ops_area_employee_id\n",
    "merged_df.ops_area_employee_id.value_counts(dropna = False)"
   ]
  },
  {
   "cell_type": "markdown",
   "metadata": {},
   "source": [
    "This is the same with the attribute 'region'."
   ]
  },
  {
   "cell_type": "code",
   "execution_count": 95,
   "metadata": {
    "collapsed": false
   },
   "outputs": [
    {
     "data": {
      "text/plain": [
       "NaN    5151620\n",
       "Name: area_chef_employee_id, dtype: int64"
      ]
     },
     "execution_count": 95,
     "metadata": {},
     "output_type": "execute_result"
    }
   ],
   "source": [
    "# area_chef_employee_id\n",
    "merged_df.area_chef_employee_id.value_counts(dropna = False)"
   ]
  },
  {
   "cell_type": "markdown",
   "metadata": {},
   "source": [
    "All void values"
   ]
  },
  {
   "cell_type": "code",
   "execution_count": 96,
   "metadata": {
    "collapsed": false
   },
   "outputs": [
    {
     "data": {
      "text/plain": [
       " 999041.0    1729052\n",
       " 626.0        697290\n",
       " 999059.0     660991\n",
       " 8175.0       636608\n",
       " 800015.0     625085\n",
       " 800003.0     473996\n",
       " 9961.0       321313\n",
       "NaN             7285\n",
       "Name: ops_manager_employee_id, dtype: int64"
      ]
     },
     "execution_count": 96,
     "metadata": {},
     "output_type": "execute_result"
    }
   ],
   "source": [
    "# ops_manager_employee_id\n",
    "merged_df.ops_manager_employee_id.value_counts(dropna = False)"
   ]
  },
  {
   "cell_type": "markdown",
   "metadata": {},
   "source": [
    "The next Jupyter notebook will elaborate on what features to be used at this stage."
   ]
  }
 ],
 "metadata": {
  "anaconda-cloud": {},
  "kernelspec": {
   "display_name": "Python 2",
   "language": "python",
   "name": "python2"
  },
  "language_info": {
   "codemirror_mode": {
    "name": "ipython",
    "version": 2
   },
   "file_extension": ".py",
   "mimetype": "text/x-python",
   "name": "python",
   "nbconvert_exporter": "python",
   "pygments_lexer": "ipython2",
   "version": "2.7.13"
  }
 },
 "nbformat": 4,
 "nbformat_minor": 1
}
